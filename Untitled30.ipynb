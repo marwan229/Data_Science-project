{
  "nbformat": 4,
  "nbformat_minor": 0,
  "metadata": {
    "colab": {
      "provenance": [],
      "authorship_tag": "ABX9TyO3c3ps7/0ayaIVyhfDU4MK",
      "include_colab_link": true
    },
    "kernelspec": {
      "name": "python3",
      "display_name": "Python 3"
    },
    "language_info": {
      "name": "python"
    }
  },
  "cells": [
    {
      "cell_type": "markdown",
      "metadata": {
        "id": "view-in-github",
        "colab_type": "text"
      },
      "source": [
        "<a href=\"https://colab.research.google.com/github/marwan229/Data_Science-project/blob/main/Untitled30.ipynb\" target=\"_parent\"><img src=\"https://colab.research.google.com/assets/colab-badge.svg\" alt=\"Open In Colab\"/></a>"
      ]
    },
    {
      "cell_type": "code",
      "execution_count": 1,
      "metadata": {
        "id": "m10Zk-G_tP97"
      },
      "outputs": [],
      "source": [
        "from tensorflow.keras.models import Sequential\n",
        "from tensorflow.keras.layers import Dense, Flatten, Conv2D, MaxPooling2D\n",
        "from tensorflow.keras.models import Sequential\n",
        "from tensorflow.keras.layers import Conv1D, MaxPooling1D, Flatten, Dense, Dropout\n",
        "from sklearn.preprocessing import MinMaxScaler\n",
        "import pandas as pd\n",
        "import numpy as np\n",
        "import sklearn\n",
        "from sklearn.model_selection import GridSearchCV"
      ]
    },
    {
      "cell_type": "code",
      "source": [
        "df = pd.read_csv('target.csv')"
      ],
      "metadata": {
        "id": "P_VQxtdgtUbn"
      },
      "execution_count": 3,
      "outputs": []
    },
    {
      "cell_type": "code",
      "source": [
        "from sklearn.model_selection import train_test_split\n",
        "\n",
        "X = df.drop(columns=\"Fault_Type\")\n",
        "Y = df[[\"Fault_Type\"]]\n",
        "\n",
        "X_train, X_test, y_train, y_test = train_test_split(X, Y, test_size=0.2, random_state=42)\n",
        "print (f'Shape of train data: {X_train.shape}')\n",
        "print (f'Shape of test data: {X_test.shape}')"
      ],
      "metadata": {
        "colab": {
          "base_uri": "https://localhost:8080/"
        },
        "id": "G9avkgRgtXJT",
        "outputId": "c084d638-8fd1-4a4b-fb9c-90350644ae3f"
      },
      "execution_count": 4,
      "outputs": [
        {
          "output_type": "stream",
          "name": "stdout",
          "text": [
            "Shape of train data: (11574, 3)\n",
            "Shape of test data: (2894, 3)\n"
          ]
        }
      ]
    },
    {
      "cell_type": "code",
      "source": [
        "from tensorflow.keras.models import Sequential\n",
        "from tensorflow.keras.layers import Dense\n",
        "model = Sequential([\n",
        "    Dense(24, input_dim=df.shape[1]-1, activation='relu', name='hidden_1'),\n",
        "    Dense(12, activation='relu', name='hidden_2'),\n",
        "    Dense(1, activation='sigmoid', name='output'),\n",
        "])"
      ],
      "metadata": {
        "id": "ZQY92GjKtZVr"
      },
      "execution_count": 5,
      "outputs": []
    },
    {
      "cell_type": "code",
      "source": [
        "model.compile(optimizer='adam', loss='binary_crossentropy', metrics=['accuracy'])\n",
        "model.summary()"
      ],
      "metadata": {
        "colab": {
          "base_uri": "https://localhost:8080/"
        },
        "id": "rviYF6a6tbLJ",
        "outputId": "c95b630b-dd09-4d0b-fafd-819e6de21ee6"
      },
      "execution_count": 6,
      "outputs": [
        {
          "output_type": "stream",
          "name": "stdout",
          "text": [
            "Model: \"sequential\"\n",
            "_________________________________________________________________\n",
            " Layer (type)                Output Shape              Param #   \n",
            "=================================================================\n",
            " hidden_1 (Dense)            (None, 24)                96        \n",
            "                                                                 \n",
            " hidden_2 (Dense)            (None, 12)                300       \n",
            "                                                                 \n",
            " output (Dense)              (None, 1)                 13        \n",
            "                                                                 \n",
            "=================================================================\n",
            "Total params: 409 (1.60 KB)\n",
            "Trainable params: 409 (1.60 KB)\n",
            "Non-trainable params: 0 (0.00 Byte)\n",
            "_________________________________________________________________\n"
          ]
        }
      ]
    },
    {
      "cell_type": "code",
      "source": [
        " model.fit(X_train, y_train, epochs=100, batch_size=16, verbose=1)"
      ],
      "metadata": {
        "colab": {
          "base_uri": "https://localhost:8080/"
        },
        "id": "yo00ji1atojR",
        "outputId": "149e1b4a-3671-4196-f9e9-f3741012e9d3"
      },
      "execution_count": 7,
      "outputs": [
        {
          "output_type": "stream",
          "name": "stdout",
          "text": [
            "Epoch 1/100\n",
            "724/724 [==============================] - 2s 2ms/step - loss: 2.9607 - accuracy: 0.6311\n",
            "Epoch 2/100\n",
            "724/724 [==============================] - 1s 2ms/step - loss: 0.5858 - accuracy: 0.7980\n",
            "Epoch 3/100\n",
            "724/724 [==============================] - 2s 3ms/step - loss: 0.2695 - accuracy: 0.9191\n",
            "Epoch 4/100\n",
            "724/724 [==============================] - 2s 2ms/step - loss: 0.1592 - accuracy: 0.9578\n",
            "Epoch 5/100\n",
            "724/724 [==============================] - 1s 2ms/step - loss: 0.1513 - accuracy: 0.9587\n",
            "Epoch 6/100\n",
            "724/724 [==============================] - 1s 2ms/step - loss: 0.1448 - accuracy: 0.9599\n",
            "Epoch 7/100\n",
            "724/724 [==============================] - 1s 2ms/step - loss: 0.1389 - accuracy: 0.9618\n",
            "Epoch 8/100\n",
            "724/724 [==============================] - 1s 2ms/step - loss: 0.2551 - accuracy: 0.9333\n",
            "Epoch 9/100\n",
            "724/724 [==============================] - 1s 2ms/step - loss: 0.1302 - accuracy: 0.9628\n",
            "Epoch 10/100\n",
            "724/724 [==============================] - 1s 2ms/step - loss: 0.1231 - accuracy: 0.9628\n",
            "Epoch 11/100\n",
            "724/724 [==============================] - 1s 2ms/step - loss: 0.1215 - accuracy: 0.9637\n",
            "Epoch 12/100\n",
            "724/724 [==============================] - 1s 2ms/step - loss: 0.1195 - accuracy: 0.9639\n",
            "Epoch 13/100\n",
            "724/724 [==============================] - 2s 3ms/step - loss: 0.1190 - accuracy: 0.9647\n",
            "Epoch 14/100\n",
            "724/724 [==============================] - 1s 2ms/step - loss: 0.1192 - accuracy: 0.9644\n",
            "Epoch 15/100\n",
            "724/724 [==============================] - 1s 2ms/step - loss: 0.1185 - accuracy: 0.9647\n",
            "Epoch 16/100\n",
            "724/724 [==============================] - 1s 2ms/step - loss: 0.1164 - accuracy: 0.9647\n",
            "Epoch 17/100\n",
            "724/724 [==============================] - 1s 2ms/step - loss: 0.1161 - accuracy: 0.9644\n",
            "Epoch 18/100\n",
            "724/724 [==============================] - 1s 2ms/step - loss: 0.1235 - accuracy: 0.9610\n",
            "Epoch 19/100\n",
            "724/724 [==============================] - 1s 2ms/step - loss: 0.1135 - accuracy: 0.9650\n",
            "Epoch 20/100\n",
            "724/724 [==============================] - 1s 2ms/step - loss: 0.1128 - accuracy: 0.9654\n",
            "Epoch 21/100\n",
            "724/724 [==============================] - 1s 2ms/step - loss: 0.1110 - accuracy: 0.9654\n",
            "Epoch 22/100\n",
            "724/724 [==============================] - 2s 3ms/step - loss: 0.1125 - accuracy: 0.9649\n",
            "Epoch 23/100\n",
            "724/724 [==============================] - 1s 2ms/step - loss: 0.1150 - accuracy: 0.9635\n",
            "Epoch 24/100\n",
            "724/724 [==============================] - 1s 2ms/step - loss: 0.1104 - accuracy: 0.9651\n",
            "Epoch 25/100\n",
            "724/724 [==============================] - 1s 2ms/step - loss: 0.1097 - accuracy: 0.9656\n",
            "Epoch 26/100\n",
            "724/724 [==============================] - 1s 2ms/step - loss: 0.1096 - accuracy: 0.9650\n",
            "Epoch 27/100\n",
            "724/724 [==============================] - 1s 2ms/step - loss: 0.1102 - accuracy: 0.9650\n",
            "Epoch 28/100\n",
            "724/724 [==============================] - 1s 2ms/step - loss: 0.1095 - accuracy: 0.9651\n",
            "Epoch 29/100\n",
            "724/724 [==============================] - 1s 2ms/step - loss: 0.1090 - accuracy: 0.9651\n",
            "Epoch 30/100\n",
            "724/724 [==============================] - 1s 2ms/step - loss: 0.1064 - accuracy: 0.9660\n",
            "Epoch 31/100\n",
            "724/724 [==============================] - 2s 2ms/step - loss: 0.1064 - accuracy: 0.9663\n",
            "Epoch 32/100\n",
            "724/724 [==============================] - 2s 2ms/step - loss: 0.1072 - accuracy: 0.9665\n",
            "Epoch 33/100\n",
            "724/724 [==============================] - 1s 2ms/step - loss: 0.1068 - accuracy: 0.9654\n",
            "Epoch 34/100\n",
            "724/724 [==============================] - 1s 2ms/step - loss: 0.1052 - accuracy: 0.9660\n",
            "Epoch 35/100\n",
            "724/724 [==============================] - 1s 2ms/step - loss: 0.1059 - accuracy: 0.9654\n",
            "Epoch 36/100\n",
            "724/724 [==============================] - 1s 2ms/step - loss: 0.1274 - accuracy: 0.9622\n",
            "Epoch 37/100\n",
            "724/724 [==============================] - 1s 2ms/step - loss: 0.1036 - accuracy: 0.9660\n",
            "Epoch 38/100\n",
            "724/724 [==============================] - 1s 2ms/step - loss: 0.1018 - accuracy: 0.9665\n",
            "Epoch 39/100\n",
            "724/724 [==============================] - 1s 2ms/step - loss: 0.1003 - accuracy: 0.9668\n",
            "Epoch 40/100\n",
            "724/724 [==============================] - 2s 2ms/step - loss: 0.1003 - accuracy: 0.9666\n",
            "Epoch 41/100\n",
            "724/724 [==============================] - 2s 2ms/step - loss: 0.0991 - accuracy: 0.9666\n",
            "Epoch 42/100\n",
            "724/724 [==============================] - 1s 2ms/step - loss: 0.1011 - accuracy: 0.9661\n",
            "Epoch 43/100\n",
            "724/724 [==============================] - 1s 2ms/step - loss: 0.1003 - accuracy: 0.9666\n",
            "Epoch 44/100\n",
            "724/724 [==============================] - 1s 2ms/step - loss: 0.0993 - accuracy: 0.9664\n",
            "Epoch 45/100\n",
            "724/724 [==============================] - 1s 2ms/step - loss: 0.1002 - accuracy: 0.9660\n",
            "Epoch 46/100\n",
            "724/724 [==============================] - 1s 2ms/step - loss: 0.0994 - accuracy: 0.9666\n",
            "Epoch 47/100\n",
            "724/724 [==============================] - 1s 2ms/step - loss: 0.1004 - accuracy: 0.9662\n",
            "Epoch 48/100\n",
            "724/724 [==============================] - 1s 2ms/step - loss: 0.0967 - accuracy: 0.9675\n",
            "Epoch 49/100\n",
            "724/724 [==============================] - 1s 2ms/step - loss: 0.0995 - accuracy: 0.9668\n",
            "Epoch 50/100\n",
            "724/724 [==============================] - 2s 3ms/step - loss: 0.0978 - accuracy: 0.9672\n",
            "Epoch 51/100\n",
            "724/724 [==============================] - 1s 2ms/step - loss: 0.0988 - accuracy: 0.9661\n",
            "Epoch 52/100\n",
            "724/724 [==============================] - 1s 2ms/step - loss: 0.0982 - accuracy: 0.9665\n",
            "Epoch 53/100\n",
            "724/724 [==============================] - 1s 2ms/step - loss: 0.0984 - accuracy: 0.9666\n",
            "Epoch 54/100\n",
            "724/724 [==============================] - 1s 2ms/step - loss: 0.0973 - accuracy: 0.9672\n",
            "Epoch 55/100\n",
            "724/724 [==============================] - 1s 2ms/step - loss: 0.0969 - accuracy: 0.9668\n",
            "Epoch 56/100\n",
            "724/724 [==============================] - 1s 2ms/step - loss: 0.0965 - accuracy: 0.9676\n",
            "Epoch 57/100\n",
            "724/724 [==============================] - 1s 2ms/step - loss: 0.0970 - accuracy: 0.9673\n",
            "Epoch 58/100\n",
            "724/724 [==============================] - 1s 2ms/step - loss: 0.0968 - accuracy: 0.9670\n",
            "Epoch 59/100\n",
            "724/724 [==============================] - 1s 2ms/step - loss: 0.0961 - accuracy: 0.9680\n",
            "Epoch 60/100\n",
            "724/724 [==============================] - 2s 2ms/step - loss: 0.0976 - accuracy: 0.9662\n",
            "Epoch 61/100\n",
            "724/724 [==============================] - 1s 2ms/step - loss: 0.0963 - accuracy: 0.9666\n",
            "Epoch 62/100\n",
            "724/724 [==============================] - 1s 2ms/step - loss: 0.0959 - accuracy: 0.9673\n",
            "Epoch 63/100\n",
            "724/724 [==============================] - 1s 2ms/step - loss: 0.0962 - accuracy: 0.9672\n",
            "Epoch 64/100\n",
            "724/724 [==============================] - 1s 2ms/step - loss: 0.0953 - accuracy: 0.9675\n",
            "Epoch 65/100\n",
            "724/724 [==============================] - 1s 2ms/step - loss: 0.0971 - accuracy: 0.9671\n",
            "Epoch 66/100\n",
            "724/724 [==============================] - 1s 2ms/step - loss: 0.0954 - accuracy: 0.9674\n",
            "Epoch 67/100\n",
            "724/724 [==============================] - 1s 2ms/step - loss: 0.0952 - accuracy: 0.9682\n",
            "Epoch 68/100\n",
            "724/724 [==============================] - 1s 2ms/step - loss: 0.0957 - accuracy: 0.9667\n",
            "Epoch 69/100\n",
            "724/724 [==============================] - 2s 2ms/step - loss: 0.0963 - accuracy: 0.9672\n",
            "Epoch 70/100\n",
            "724/724 [==============================] - 2s 2ms/step - loss: 0.0948 - accuracy: 0.9678\n",
            "Epoch 71/100\n",
            "724/724 [==============================] - 1s 2ms/step - loss: 0.0973 - accuracy: 0.9674\n",
            "Epoch 72/100\n",
            "724/724 [==============================] - 1s 2ms/step - loss: 0.0942 - accuracy: 0.9683\n",
            "Epoch 73/100\n",
            "724/724 [==============================] - 1s 2ms/step - loss: 0.0950 - accuracy: 0.9673\n",
            "Epoch 74/100\n",
            "724/724 [==============================] - 1s 2ms/step - loss: 0.0954 - accuracy: 0.9679\n",
            "Epoch 75/100\n",
            "724/724 [==============================] - 1s 2ms/step - loss: 0.0957 - accuracy: 0.9674\n",
            "Epoch 76/100\n",
            "724/724 [==============================] - 1s 2ms/step - loss: 0.0942 - accuracy: 0.9686\n",
            "Epoch 77/100\n",
            "724/724 [==============================] - 1s 2ms/step - loss: 0.0946 - accuracy: 0.9678\n",
            "Epoch 78/100\n",
            "724/724 [==============================] - 2s 2ms/step - loss: 0.0948 - accuracy: 0.9679\n",
            "Epoch 79/100\n",
            "724/724 [==============================] - 2s 2ms/step - loss: 0.0954 - accuracy: 0.9673\n",
            "Epoch 80/100\n",
            "724/724 [==============================] - 1s 2ms/step - loss: 0.0945 - accuracy: 0.9679\n",
            "Epoch 81/100\n",
            "724/724 [==============================] - 1s 2ms/step - loss: 0.0943 - accuracy: 0.9685\n",
            "Epoch 82/100\n",
            "724/724 [==============================] - 1s 2ms/step - loss: 0.0947 - accuracy: 0.9681\n",
            "Epoch 83/100\n",
            "724/724 [==============================] - 1s 2ms/step - loss: 0.0944 - accuracy: 0.9679\n",
            "Epoch 84/100\n",
            "724/724 [==============================] - 1s 2ms/step - loss: 0.0940 - accuracy: 0.9679\n",
            "Epoch 85/100\n",
            "724/724 [==============================] - 1s 2ms/step - loss: 0.0938 - accuracy: 0.9678\n",
            "Epoch 86/100\n",
            "724/724 [==============================] - 1s 2ms/step - loss: 0.0939 - accuracy: 0.9679\n",
            "Epoch 87/100\n",
            "724/724 [==============================] - 1s 2ms/step - loss: 0.0935 - accuracy: 0.9688\n",
            "Epoch 88/100\n",
            "724/724 [==============================] - 2s 2ms/step - loss: 0.0929 - accuracy: 0.9687\n",
            "Epoch 89/100\n",
            "724/724 [==============================] - 2s 2ms/step - loss: 0.0933 - accuracy: 0.9683\n",
            "Epoch 90/100\n",
            "724/724 [==============================] - 1s 2ms/step - loss: 0.0928 - accuracy: 0.9689\n",
            "Epoch 91/100\n",
            "724/724 [==============================] - 1s 2ms/step - loss: 0.0925 - accuracy: 0.9696\n",
            "Epoch 92/100\n",
            "724/724 [==============================] - 1s 2ms/step - loss: 0.0937 - accuracy: 0.9687\n",
            "Epoch 93/100\n",
            "724/724 [==============================] - 1s 2ms/step - loss: 0.0921 - accuracy: 0.9690\n",
            "Epoch 94/100\n",
            "724/724 [==============================] - 1s 2ms/step - loss: 0.0913 - accuracy: 0.9690\n",
            "Epoch 95/100\n",
            "724/724 [==============================] - 1s 2ms/step - loss: 0.0938 - accuracy: 0.9688\n",
            "Epoch 96/100\n",
            "724/724 [==============================] - 1s 2ms/step - loss: 0.0935 - accuracy: 0.9687\n",
            "Epoch 97/100\n",
            "724/724 [==============================] - 2s 2ms/step - loss: 0.0932 - accuracy: 0.9690\n",
            "Epoch 98/100\n",
            "724/724 [==============================] - 2s 2ms/step - loss: 0.0929 - accuracy: 0.9694\n",
            "Epoch 99/100\n",
            "724/724 [==============================] - 1s 2ms/step - loss: 0.0931 - accuracy: 0.9686\n",
            "Epoch 100/100\n",
            "724/724 [==============================] - 1s 2ms/step - loss: 0.0930 - accuracy: 0.9690\n"
          ]
        },
        {
          "output_type": "execute_result",
          "data": {
            "text/plain": [
              "<keras.src.callbacks.History at 0x7e7124a263b0>"
            ]
          },
          "metadata": {},
          "execution_count": 7
        }
      ]
    },
    {
      "cell_type": "code",
      "source": [
        "scores = model.evaluate(X_test, y_test)\n",
        "print (f'Accuracy: {round(scores[1]*100, 2)} %')"
      ],
      "metadata": {
        "colab": {
          "base_uri": "https://localhost:8080/"
        },
        "id": "gTtnW-b0tsL3",
        "outputId": "82709176-3989-41db-deda-a6d5fda3a695"
      },
      "execution_count": 8,
      "outputs": [
        {
          "output_type": "stream",
          "name": "stdout",
          "text": [
            "91/91 [==============================] - 0s 2ms/step - loss: 0.1071 - accuracy: 0.9654\n",
            "Accuracy: 96.54 %\n"
          ]
        }
      ]
    },
    {
      "cell_type": "code",
      "source": [
        "model.save('nn.h5')"
      ],
      "metadata": {
        "colab": {
          "base_uri": "https://localhost:8080/"
        },
        "id": "w-wjiU1tuj7J",
        "outputId": "299caede-9e0d-427f-b95e-8e920a443c01"
      },
      "execution_count": 9,
      "outputs": [
        {
          "output_type": "stream",
          "name": "stderr",
          "text": [
            "/usr/local/lib/python3.10/dist-packages/keras/src/engine/training.py:3103: UserWarning: You are saving your model as an HDF5 file via `model.save()`. This file format is considered legacy. We recommend using instead the native Keras format, e.g. `model.save('my_model.keras')`.\n",
            "  saving_api.save_model(\n"
          ]
        }
      ]
    },
    {
      "cell_type": "code",
      "source": [
        "model.save('detdeep.h5')"
      ],
      "metadata": {
        "id": "50Adds2nvYBI"
      },
      "execution_count": 10,
      "outputs": []
    }
  ]
}