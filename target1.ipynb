{
  "metadata": {
    "kernelspec": {
      "language": "python",
      "display_name": "Python 3",
      "name": "python3"
    },
    "language_info": {
      "name": "python",
      "version": "3.7.12",
      "mimetype": "text/x-python",
      "codemirror_mode": {
        "name": "ipython",
        "version": 3
      },
      "pygments_lexer": "ipython3",
      "nbconvert_exporter": "python",
      "file_extension": ".py"
    },
    "kaggle": {
      "accelerator": "none",
      "dataSources": [
        {
          "sourceId": 2258354,
          "sourceType": "datasetVersion",
          "datasetId": 1358964
        }
      ],
      "dockerImageVersionId": 30213,
      "isInternetEnabled": true,
      "language": "python",
      "sourceType": "notebook",
      "isGpuEnabled": false
    },
    "colab": {
      "provenance": [],
      "include_colab_link": true
    }
  },
  "nbformat_minor": 0,
  "nbformat": 4,
  "cells": [
    {
      "cell_type": "markdown",
      "metadata": {
        "id": "view-in-github",
        "colab_type": "text"
      },
      "source": [
        "<a href=\"https://colab.research.google.com/github/marwan229/Data_Science-project/blob/main/target1.ipynb\" target=\"_parent\"><img src=\"https://colab.research.google.com/assets/colab-badge.svg\" alt=\"Open In Colab\"/></a>"
      ]
    },
    {
      "cell_type": "markdown",
      "source": [
        "<span style=\"background-color:red;\n",
        "             color:white;\n",
        "             font-size:17px;\n",
        "             text-align:center;\n",
        "             border-radius:30px 80px;\n",
        "             font-weight:bold;\n",
        "             border:2px solid red;\n",
        "             padding:0px 20px;\">What are Electrical Faults?\n",
        "</span>"
      ],
      "metadata": {
        "id": "hBoEde95ae1u"
      }
    },
    {
      "cell_type": "markdown",
      "source": [
        "<div style=\"color:white;\n",
        "       display:fill;\n",
        "       border-radius:5px;\n",
        "       background-color:yellow;\n",
        "       font-size:120%;\n",
        "       font-family:Nexa;\n",
        "       style:justify;\n",
        "       font-family:'Times New Roman';\n",
        "       letter-spacing:0.5px\">\n",
        "    <p style=\"padding: 10px;\n",
        "          color:Black;\">\n",
        "         Normally, a power system operates under balanced conditions. When the system becomes unbalanced due to the failures of insulation at any point or due to the contact of live wires, a short–circuit or fault, is said to occur in the line. Faults may occur in the power system due to the number of reasons like natural disturbances (lightning, high-speed winds, earthquakes), insulation breakdown, falling of a tree, bird shorting, etc.\n",
        "    </p>\n",
        "</div>"
      ],
      "metadata": {
        "id": "-1OlBnroae1v"
      }
    },
    {
      "cell_type": "markdown",
      "source": [
        "<span style=\"background-color:red;\n",
        "             color:white;\n",
        "             font-size:17px;\n",
        "             text-align:center;\n",
        "             border-radius:30px 80px;\n",
        "             font-weight:bold;\n",
        "             border:2px solid red;\n",
        "             padding:0px 20px;\">Types of Faults?\n",
        "</span>"
      ],
      "metadata": {
        "id": "Q4ZQ_Av-ae1v"
      }
    },
    {
      "cell_type": "markdown",
      "source": [
        "<div style=\"color:white;\n",
        "       display:fill;\n",
        "       border-radius:5px;\n",
        "       background-color:yellow;\n",
        "       font-size:120%;\n",
        "       font-family:Nexa;\n",
        "       style:justify;\n",
        "       font-family:'Times New Roman';\n",
        "       letter-spacing:0.5px\">\n",
        "    <p style=\"padding: 10px;\n",
        "          color:Black;\">\n",
        "         Normally, a power system operates under balanced conditions. When the system becomes unbalanced due to the failures of insulation at any point or due to the contact of live wires, a short–circuit or fault, is said to occur in the line. Faults may occur in the power system due to the number of reasons like natural disturbances (lightning, high-speed winds, earthquakes), insulation breakdown, falling of a tree, bird shorting, etc.\n",
        "    </p>\n",
        "</div>"
      ],
      "metadata": {
        "id": "2HK50TwBae1v"
      }
    },
    {
      "cell_type": "markdown",
      "source": [
        "<span style=\"background-color:red;\n",
        "             color:white;\n",
        "             font-size:17px;\n",
        "             text-align:center;\n",
        "             border-radius:30px 80px;\n",
        "             font-weight:bold;\n",
        "             border:2px solid red;\n",
        "             padding:0px 20px;\">Faults can be brodly categorised into two types:\n",
        "</span>"
      ],
      "metadata": {
        "id": "QCXjHJVcae1w"
      }
    },
    {
      "cell_type": "markdown",
      "source": [
        "**1. Open-circuit Fault**\n",
        "\n",
        "**2. Short-Circuit Faults**"
      ],
      "metadata": {
        "id": "eEcoQ3Efae1w"
      }
    },
    {
      "cell_type": "markdown",
      "source": [
        "<span style=\"background-color:Blue;\n",
        "             color:white;\n",
        "             font-size:17px;\n",
        "             text-align:center;\n",
        "             border-radius:30px 80px;\n",
        "             font-weight:bold;\n",
        "             border:2px solid Blue;\n",
        "             padding:0px 20px;\">Short-Circuit Faults\n",
        "</span>"
      ],
      "metadata": {
        "id": "i8REqpSCae1x"
      }
    },
    {
      "cell_type": "markdown",
      "source": [
        "**1. Symmetrical**\n",
        "\n",
        "**2. Asymmetrical Faults**"
      ],
      "metadata": {
        "id": "gqADDU2Rae1y"
      }
    },
    {
      "cell_type": "markdown",
      "source": [
        "<span style=\"background-color:red;\n",
        "             color:white;\n",
        "             font-size:17px;\n",
        "             text-align:center;\n",
        "             border-radius:30px 80px;\n",
        "             font-weight:bold;\n",
        "             border:2px solid red;\n",
        "             padding:0px 20px;\">Symmetrical and Asymmetrical Faults\n",
        "</span>"
      ],
      "metadata": {
        "id": "4QgmJ2jjae1y"
      }
    },
    {
      "cell_type": "markdown",
      "source": [
        "<span style=\"background-color:Blue;\n",
        "             color:white;\n",
        "             font-size:17px;\n",
        "             text-align:center;\n",
        "             border-radius:30px 80px;\n",
        "             font-weight:bold;\n",
        "             border:2px solid Blue;\n",
        "             padding:0px 20px;\">Symmetrical Faults\n",
        "</span>"
      ],
      "metadata": {
        "id": "lFXzway0ae1y"
      }
    },
    {
      "cell_type": "markdown",
      "source": [
        "> * In symmetrical faults, all phases are shorted to each other or to earth (L-L-L) or (L-L-L-G).\n",
        "> * The nature of this type of fault is balanced.\n",
        "> * In this type of fault,fault currents in all phases are symmetrical i.e. their magnitudes are equal and they are equally displaced by angle 120 degree.\n",
        "> * It is more severe type of fault but it occurs rarely."
      ],
      "metadata": {
        "id": "D7RKChq3ae1z"
      }
    },
    {
      "cell_type": "markdown",
      "source": [
        "<span style=\"background-color:Blue;\n",
        "             color:white;\n",
        "             font-size:17px;\n",
        "             text-align:center;\n",
        "             border-radius:30px 80px;\n",
        "             font-weight:bold;\n",
        "             border:2px solid Blue;\n",
        "             padding:0px 20px;\">Asymmetrical Faults\n",
        "</span>"
      ],
      "metadata": {
        "id": "a4ZT90Dlae1z"
      }
    },
    {
      "cell_type": "markdown",
      "source": [
        "> * These faults involve only one or two phases.\n",
        "> * In this type of fault, three phase lines become unbalanced.\n",
        "> * There are mainly three types namely line to ground (L-G), line to line (L-L) and double line to ground (LL-G) faults.\n",
        "> * These type of faults mostly occur on power system.."
      ],
      "metadata": {
        "id": "KRAbqcDUae1z"
      }
    },
    {
      "cell_type": "markdown",
      "source": [
        "<center> <img src=\"https://ars.els-cdn.com/content/image/1-s2.0-S2314717217300065-gr1.jpg\" width=\"600\" height=\"200\"> </center>"
      ],
      "metadata": {
        "id": "989YNL1iae1z"
      }
    },
    {
      "cell_type": "markdown",
      "source": [
        "<span style=\"background-color:red;\n",
        "             color:white;\n",
        "             font-size:17px;\n",
        "             text-align:center;\n",
        "             border-radius:30px 80px;\n",
        "             font-weight:bold;\n",
        "             border:2px solid red;\n",
        "             padding:0px 20px;\">About this dataset file\n",
        "</span>"
      ],
      "metadata": {
        "id": "lo0hVXF-ae10"
      }
    },
    {
      "cell_type": "markdown",
      "source": [
        "**This file contains the dataset to classify the types of fault.**\n",
        "\n",
        "- Inputs - [Ia,Ib,Ic,Va,Vb,Vc]\n",
        "\n",
        "> Ia = Current in line A\n",
        "\n",
        "> Ib = Current in line B\n",
        "\n",
        "> Ic = Current in line C\n",
        "\n",
        "\n",
        "> Va = Voltage in line A\n",
        "\n",
        "> Vb = Voltage in line B\n",
        "\n",
        "> Vc = Voltage in line C\n",
        "\n",
        "*Examples :*\n",
        "\n",
        "- [G C B A] - Outputs\n",
        "\n",
        "- [0 0 0 0] - No Fault\n",
        "\n",
        "\n",
        "- [1 0 0 0] - Ground Fault\n",
        "\n",
        "\n",
        "- [0 0 0 1] - Fault in Line A\n",
        "- [0 0 1 0] - Fault in Line B\n",
        "- [0 1 0 0] - Fault in Line C\n",
        "\n",
        "\n",
        "- [1 0 0 1] - LG fault (Between Phase A and Ground)\n",
        "- [1 0 1 0] - LG fault (Between Phase B and Ground)\n",
        "- [1 1 0 0] - LG fault (Between Phase C and Ground)\n",
        "\n",
        "\n",
        "- [0 0 1 1] - LL fault (Between Phase B and Phase A)\n",
        "- [0 1 1 0] - LL fault (Between Phase C and Phase B)\n",
        "- [0 1 0 1] - LL fault (Between Phase C and Phase A)\n",
        "\n",
        "\n",
        "- [1 0 1 1] - LLG Fault (Between Phases A,B and Ground)\n",
        "- [1 1 0 1] - LLG Fault (Between Phases A,C and Ground)\n",
        "- [1 1 1 0] - LLG Fault (Between Phases C,B and Ground)\n",
        "\n",
        "\n",
        "- [0 1 1 1] - LLL Fault(Between all three phases)\n",
        "\n",
        "\n",
        "- [1 1 1 1] - LLLG fault( Three phase symmetrical fault)"
      ],
      "metadata": {
        "id": "Tw7uKd8Lae10"
      }
    },
    {
      "cell_type": "markdown",
      "source": [
        "<span class=\"label label-default\" style=\"background-color:#DC1010; border-radius:12px; font-weight: bold; font-family:Verdana; font-size:28px; color:#FBFAFC; \">Objectives of Notebook</span>"
      ],
      "metadata": {
        "id": "QNaAaYp4ae10"
      }
    },
    {
      "cell_type": "markdown",
      "source": [
        "<span class=\"label label-default\" style=\"background-color:#DC1010; border-radius:12px; font-weight: bold; font-family:Verdana; font-size:28px; color:#FBFAFC; \">Importing Libraries:</span>"
      ],
      "metadata": {
        "id": "GU7xjNO4ae11"
      }
    },
    {
      "cell_type": "code",
      "source": [
        "import pandas as pd\n",
        "import numpy as np\n",
        "import seaborn as sns\n",
        "import matplotlib.pyplot as plt\n",
        "%matplotlib inline\n",
        "\n",
        "import warnings\n",
        "warnings.filterwarnings('ignore')"
      ],
      "metadata": {
        "execution": {
          "iopub.status.busy": "2023-11-19T10:14:16.665186Z",
          "iopub.execute_input": "2023-11-19T10:14:16.665875Z",
          "iopub.status.idle": "2023-11-19T10:14:17.952345Z",
          "shell.execute_reply.started": "2023-11-19T10:14:16.665837Z",
          "shell.execute_reply": "2023-11-19T10:14:17.950843Z"
        },
        "trusted": true,
        "id": "M3Kig77jae11"
      },
      "execution_count": 1,
      "outputs": []
    },
    {
      "cell_type": "code",
      "source": [
        "sns.set_theme(context='notebook',\n",
        "              style='white',\n",
        "              palette='deep',\n",
        "\n",
        "              font_scale=1.5,\n",
        "              color_codes=True,\n",
        "              rc=None)\n",
        "\n",
        "import matplotlib\n",
        "\n",
        "plt.rcParams['figure.figsize'] = (14,8)\n",
        "plt.rcParams['figure.facecolor'] = '#F0F8FF'\n",
        "plt.rcParams['figure.titlesize'] = 'medium'\n",
        "plt.rcParams['figure.dpi'] = 150\n",
        "plt.rcParams['figure.edgecolor'] = 'green'\n",
        "plt.rcParams['figure.frameon'] = True\n",
        "\n",
        "plt.rcParams[\"figure.autolayout\"] = True\n",
        "\n",
        "plt.rcParams['axes.facecolor'] = '#F5F5DC'\n",
        "plt.rcParams['axes.titlesize'] = 25\n",
        "plt.rcParams[\"axes.titleweight\"] = 'normal'\n",
        "plt.rcParams[\"axes.titlecolor\"] = 'Olive'\n",
        "plt.rcParams['axes.edgecolor'] = 'pink'\n",
        "\n",
        "plt.rcParams[\"axes.linewidth\"] = 2\n",
        "plt.rcParams[\"axes.grid\"] = True\n",
        "plt.rcParams['axes.titlelocation'] = 'center'\n",
        "plt.rcParams[\"axes.labelsize\"] = 20\n",
        "plt.rcParams[\"axes.labelpad\"] = 2\n",
        "plt.rcParams['axes.labelweight'] = 1\n",
        "plt.rcParams[\"axes.labelcolor\"] = 'Olive'\n",
        "plt.rcParams[\"axes.axisbelow\"] = False\n",
        "plt.rcParams['axes.xmargin'] = .2\n",
        "plt.rcParams[\"axes.ymargin\"] = .2\n",
        "\n",
        "plt.rcParams[\"xtick.bottom\"] = True\n",
        "plt.rcParams['xtick.color'] = '#A52A2A'\n",
        "plt.rcParams[\"ytick.left\"] = True\n",
        "plt.rcParams['ytick.color'] = '#A52A2A'\n",
        "\n",
        "plt.rcParams['axes.grid'] = True\n",
        "plt.rcParams['grid.color'] = 'green'\n",
        "plt.rcParams['grid.linestyle'] = '--'\n",
        "plt.rcParams['grid.linewidth'] = .5\n",
        "plt.rcParams['grid.alpha'] = .3\n",
        "\n",
        "plt.rcParams['legend.loc'] = 'best'\n",
        "plt.rcParams['legend.facecolor'] =  'NavajoWhite'\n",
        "plt.rcParams['legend.edgecolor'] = 'pink'\n",
        "plt.rcParams['legend.shadow'] = True\n",
        "plt.rcParams['legend.fontsize'] = 20\n",
        "\n",
        "\n",
        "\n",
        "plt.rcParams['font.size'] = 14\n",
        "\n",
        "plt.rcParams['figure.dpi'] = 150\n",
        "plt.rcParams['figure.edgecolor'] = 'Blue'"
      ],
      "metadata": {
        "execution": {
          "iopub.status.busy": "2023-11-19T10:14:17.955065Z",
          "iopub.execute_input": "2023-11-19T10:14:17.955684Z",
          "iopub.status.idle": "2023-11-19T10:14:17.977657Z",
          "shell.execute_reply.started": "2023-11-19T10:14:17.955635Z",
          "shell.execute_reply": "2023-11-19T10:14:17.976167Z"
        },
        "trusted": true,
        "id": "IxJQCn-Tae12"
      },
      "execution_count": 2,
      "outputs": []
    },
    {
      "cell_type": "code",
      "source": [
        "df_class = pd.read_csv(\"/content/target.csv\")\n",
        "df_class.sample(5).style.set_properties(**{'background-color': 'blue',\n",
        "                           'color': 'white',\n",
        "                           'border-color': 'darkblack'})"
      ],
      "metadata": {
        "execution": {
          "iopub.status.busy": "2023-11-19T10:14:17.980004Z",
          "iopub.execute_input": "2023-11-19T10:14:17.980606Z",
          "iopub.status.idle": "2023-11-19T10:14:18.159762Z",
          "shell.execute_reply.started": "2023-11-19T10:14:17.980520Z",
          "shell.execute_reply": "2023-11-19T10:14:18.158307Z"
        },
        "trusted": true,
        "colab": {
          "base_uri": "https://localhost:8080/",
          "height": 206
        },
        "id": "USvNP4Wiae12",
        "outputId": "ceb50007-893c-4884-d66a-776e0f77b6c8"
      },
      "execution_count": 3,
      "outputs": [
        {
          "output_type": "execute_result",
          "data": {
            "text/plain": [
              "<pandas.io.formats.style.Styler at 0x7822758bb970>"
            ],
            "text/html": [
              "<style type=\"text/css\">\n",
              "#T_2e10f_row0_col0, #T_2e10f_row0_col1, #T_2e10f_row0_col2, #T_2e10f_row0_col3, #T_2e10f_row1_col0, #T_2e10f_row1_col1, #T_2e10f_row1_col2, #T_2e10f_row1_col3, #T_2e10f_row2_col0, #T_2e10f_row2_col1, #T_2e10f_row2_col2, #T_2e10f_row2_col3, #T_2e10f_row3_col0, #T_2e10f_row3_col1, #T_2e10f_row3_col2, #T_2e10f_row3_col3, #T_2e10f_row4_col0, #T_2e10f_row4_col1, #T_2e10f_row4_col2, #T_2e10f_row4_col3 {\n",
              "  background-color: blue;\n",
              "  color: white;\n",
              "  border-color: darkblack;\n",
              "}\n",
              "</style>\n",
              "<table id=\"T_2e10f\" class=\"dataframe\">\n",
              "  <thead>\n",
              "    <tr>\n",
              "      <th class=\"blank level0\" >&nbsp;</th>\n",
              "      <th id=\"T_2e10f_level0_col0\" class=\"col_heading level0 col0\" >Ia</th>\n",
              "      <th id=\"T_2e10f_level0_col1\" class=\"col_heading level0 col1\" >Ib</th>\n",
              "      <th id=\"T_2e10f_level0_col2\" class=\"col_heading level0 col2\" >Ic</th>\n",
              "      <th id=\"T_2e10f_level0_col3\" class=\"col_heading level0 col3\" >Fault_Type</th>\n",
              "    </tr>\n",
              "  </thead>\n",
              "  <tbody>\n",
              "    <tr>\n",
              "      <th id=\"T_2e10f_level0_row0\" class=\"row_heading level0 row0\" >1157</th>\n",
              "      <td id=\"T_2e10f_row0_col0\" class=\"data row0 col0\" >14571.391560</td>\n",
              "      <td id=\"T_2e10f_row0_col1\" class=\"data row0 col1\" >0.000000</td>\n",
              "      <td id=\"T_2e10f_row0_col2\" class=\"data row0 col2\" >-14571.391690</td>\n",
              "      <td id=\"T_2e10f_row0_col3\" class=\"data row0 col3\" >1</td>\n",
              "    </tr>\n",
              "    <tr>\n",
              "      <th id=\"T_2e10f_level0_row1\" class=\"row_heading level0 row1\" >2126</th>\n",
              "      <td id=\"T_2e10f_row1_col0\" class=\"data row1 col0\" >2.511416</td>\n",
              "      <td id=\"T_2e10f_row1_col1\" class=\"data row1 col1\" >3.307027</td>\n",
              "      <td id=\"T_2e10f_row1_col2\" class=\"data row1 col2\" >-5.818443</td>\n",
              "      <td id=\"T_2e10f_row1_col3\" class=\"data row1 col3\" >0</td>\n",
              "    </tr>\n",
              "    <tr>\n",
              "      <th id=\"T_2e10f_level0_row2\" class=\"row_heading level0 row2\" >166</th>\n",
              "      <td id=\"T_2e10f_row2_col0\" class=\"data row2 col0\" >-7.373915</td>\n",
              "      <td id=\"T_2e10f_row2_col1\" class=\"data row2 col1\" >7.373915</td>\n",
              "      <td id=\"T_2e10f_row2_col2\" class=\"data row2 col2\" >0.000000</td>\n",
              "      <td id=\"T_2e10f_row2_col3\" class=\"data row2 col3\" >0</td>\n",
              "    </tr>\n",
              "    <tr>\n",
              "      <th id=\"T_2e10f_level0_row3\" class=\"row_heading level0 row3\" >2233</th>\n",
              "      <td id=\"T_2e10f_row3_col0\" class=\"data row3 col0\" >-5.054597</td>\n",
              "      <td id=\"T_2e10f_row3_col1\" class=\"data row3 col1\" >0.000000</td>\n",
              "      <td id=\"T_2e10f_row3_col2\" class=\"data row3 col2\" >5.054597</td>\n",
              "      <td id=\"T_2e10f_row3_col3\" class=\"data row3 col3\" >0</td>\n",
              "    </tr>\n",
              "    <tr>\n",
              "      <th id=\"T_2e10f_level0_row4\" class=\"row_heading level0 row4\" >1306</th>\n",
              "      <td id=\"T_2e10f_row4_col0\" class=\"data row4 col0\" >8476.499494</td>\n",
              "      <td id=\"T_2e10f_row4_col1\" class=\"data row4 col1\" >2000.841306</td>\n",
              "      <td id=\"T_2e10f_row4_col2\" class=\"data row4 col2\" >-40.804925</td>\n",
              "      <td id=\"T_2e10f_row4_col3\" class=\"data row4 col3\" >1</td>\n",
              "    </tr>\n",
              "  </tbody>\n",
              "</table>\n"
            ]
          },
          "metadata": {},
          "execution_count": 3
        }
      ]
    },
    {
      "cell_type": "code",
      "source": [
        "df_class.info()"
      ],
      "metadata": {
        "execution": {
          "iopub.status.busy": "2023-11-19T10:14:18.163239Z",
          "iopub.execute_input": "2023-11-19T10:14:18.163768Z",
          "iopub.status.idle": "2023-11-19T10:14:18.189242Z",
          "shell.execute_reply.started": "2023-11-19T10:14:18.163722Z",
          "shell.execute_reply": "2023-11-19T10:14:18.187323Z"
        },
        "trusted": true,
        "colab": {
          "base_uri": "https://localhost:8080/"
        },
        "id": "bj9aQ0Xpae13",
        "outputId": "a09acc87-b9e0-40f1-f710-3bb66f09712c"
      },
      "execution_count": 4,
      "outputs": [
        {
          "output_type": "stream",
          "name": "stdout",
          "text": [
            "<class 'pandas.core.frame.DataFrame'>\n",
            "RangeIndex: 2467 entries, 0 to 2466\n",
            "Data columns (total 4 columns):\n",
            " #   Column      Non-Null Count  Dtype  \n",
            "---  ------      --------------  -----  \n",
            " 0   Ia          2467 non-null   float64\n",
            " 1   Ib          2467 non-null   float64\n",
            " 2   Ic          2467 non-null   float64\n",
            " 3   Fault_Type  2467 non-null   int64  \n",
            "dtypes: float64(3), int64(1)\n",
            "memory usage: 77.2 KB\n"
          ]
        }
      ]
    },
    {
      "cell_type": "code",
      "source": [
        "df_class.isnull().sum().sum()"
      ],
      "metadata": {
        "execution": {
          "iopub.status.busy": "2023-11-19T10:14:18.191500Z",
          "iopub.execute_input": "2023-11-19T10:14:18.192257Z",
          "iopub.status.idle": "2023-11-19T10:14:18.206463Z",
          "shell.execute_reply.started": "2023-11-19T10:14:18.192195Z",
          "shell.execute_reply": "2023-11-19T10:14:18.204360Z"
        },
        "trusted": true,
        "colab": {
          "base_uri": "https://localhost:8080/"
        },
        "id": "ujiOmjUxae13",
        "outputId": "0a9a0f89-8cb7-4999-a610-73fa45c08aa7"
      },
      "execution_count": 5,
      "outputs": [
        {
          "output_type": "execute_result",
          "data": {
            "text/plain": [
              "0"
            ]
          },
          "metadata": {},
          "execution_count": 5
        }
      ]
    },
    {
      "cell_type": "code",
      "source": [
        "df_class.shape"
      ],
      "metadata": {
        "execution": {
          "iopub.status.busy": "2023-11-19T10:14:18.208513Z",
          "iopub.execute_input": "2023-11-19T10:14:18.209218Z",
          "iopub.status.idle": "2023-11-19T10:14:18.218649Z",
          "shell.execute_reply.started": "2023-11-19T10:14:18.209164Z",
          "shell.execute_reply": "2023-11-19T10:14:18.217189Z"
        },
        "trusted": true,
        "colab": {
          "base_uri": "https://localhost:8080/"
        },
        "id": "X1yv1Bbaae13",
        "outputId": "ef689b96-b9b0-461b-a969-7accea5e0d82"
      },
      "execution_count": 6,
      "outputs": [
        {
          "output_type": "execute_result",
          "data": {
            "text/plain": [
              "(2467, 4)"
            ]
          },
          "metadata": {},
          "execution_count": 6
        }
      ]
    },
    {
      "cell_type": "markdown",
      "source": [
        "<span style=\"background-color:red;\n",
        "             color:white;\n",
        "             font-size:17px;\n",
        "             text-align:center;\n",
        "             border-radius:30px 80px;\n",
        "             font-weight:bold;\n",
        "             border:2px solid red;\n",
        "             padding:0px 20px;\">Giving the proper name to the fault according to the data description provided above\n",
        "</span>"
      ],
      "metadata": {
        "id": "QvBPK-Xhae16"
      }
    },
    {
      "cell_type": "code",
      "source": [
        "df_class.sample(10).style.set_properties(**{'background-color': 'blue',\n",
        "                           'color': 'white',\n",
        "                           'border-color': 'darkblack'})"
      ],
      "metadata": {
        "execution": {
          "iopub.status.busy": "2023-11-19T10:14:21.361034Z",
          "iopub.execute_input": "2023-11-19T10:14:21.361939Z",
          "iopub.status.idle": "2023-11-19T10:14:21.394233Z",
          "shell.execute_reply.started": "2023-11-19T10:14:21.361884Z",
          "shell.execute_reply": "2023-11-19T10:14:21.392904Z"
        },
        "trusted": true,
        "colab": {
          "base_uri": "https://localhost:8080/",
          "height": 363
        },
        "id": "DHaurrY3ae17",
        "outputId": "ffb5ccc7-f863-4c3a-860c-26adf45b0144"
      },
      "execution_count": 7,
      "outputs": [
        {
          "output_type": "execute_result",
          "data": {
            "text/plain": [
              "<pandas.io.formats.style.Styler at 0x782275810520>"
            ],
            "text/html": [
              "<style type=\"text/css\">\n",
              "#T_fd7d9_row0_col0, #T_fd7d9_row0_col1, #T_fd7d9_row0_col2, #T_fd7d9_row0_col3, #T_fd7d9_row1_col0, #T_fd7d9_row1_col1, #T_fd7d9_row1_col2, #T_fd7d9_row1_col3, #T_fd7d9_row2_col0, #T_fd7d9_row2_col1, #T_fd7d9_row2_col2, #T_fd7d9_row2_col3, #T_fd7d9_row3_col0, #T_fd7d9_row3_col1, #T_fd7d9_row3_col2, #T_fd7d9_row3_col3, #T_fd7d9_row4_col0, #T_fd7d9_row4_col1, #T_fd7d9_row4_col2, #T_fd7d9_row4_col3, #T_fd7d9_row5_col0, #T_fd7d9_row5_col1, #T_fd7d9_row5_col2, #T_fd7d9_row5_col3, #T_fd7d9_row6_col0, #T_fd7d9_row6_col1, #T_fd7d9_row6_col2, #T_fd7d9_row6_col3, #T_fd7d9_row7_col0, #T_fd7d9_row7_col1, #T_fd7d9_row7_col2, #T_fd7d9_row7_col3, #T_fd7d9_row8_col0, #T_fd7d9_row8_col1, #T_fd7d9_row8_col2, #T_fd7d9_row8_col3, #T_fd7d9_row9_col0, #T_fd7d9_row9_col1, #T_fd7d9_row9_col2, #T_fd7d9_row9_col3 {\n",
              "  background-color: blue;\n",
              "  color: white;\n",
              "  border-color: darkblack;\n",
              "}\n",
              "</style>\n",
              "<table id=\"T_fd7d9\" class=\"dataframe\">\n",
              "  <thead>\n",
              "    <tr>\n",
              "      <th class=\"blank level0\" >&nbsp;</th>\n",
              "      <th id=\"T_fd7d9_level0_col0\" class=\"col_heading level0 col0\" >Ia</th>\n",
              "      <th id=\"T_fd7d9_level0_col1\" class=\"col_heading level0 col1\" >Ib</th>\n",
              "      <th id=\"T_fd7d9_level0_col2\" class=\"col_heading level0 col2\" >Ic</th>\n",
              "      <th id=\"T_fd7d9_level0_col3\" class=\"col_heading level0 col3\" >Fault_Type</th>\n",
              "    </tr>\n",
              "  </thead>\n",
              "  <tbody>\n",
              "    <tr>\n",
              "      <th id=\"T_fd7d9_level0_row0\" class=\"row_heading level0 row0\" >1092</th>\n",
              "      <td id=\"T_fd7d9_row0_col0\" class=\"data row0 col0\" >17735.443010</td>\n",
              "      <td id=\"T_fd7d9_row0_col1\" class=\"data row0 col1\" >-68.076306</td>\n",
              "      <td id=\"T_fd7d9_row0_col2\" class=\"data row0 col2\" >-17667.366580</td>\n",
              "      <td id=\"T_fd7d9_row0_col3\" class=\"data row0 col3\" >1</td>\n",
              "    </tr>\n",
              "    <tr>\n",
              "      <th id=\"T_fd7d9_level0_row1\" class=\"row_heading level0 row1\" >2075</th>\n",
              "      <td id=\"T_fd7d9_row1_col0\" class=\"data row1 col0\" >3.171838</td>\n",
              "      <td id=\"T_fd7d9_row1_col1\" class=\"data row1 col1\" >2.657138</td>\n",
              "      <td id=\"T_fd7d9_row1_col2\" class=\"data row1 col2\" >-5.828977</td>\n",
              "      <td id=\"T_fd7d9_row1_col3\" class=\"data row1 col3\" >0</td>\n",
              "    </tr>\n",
              "    <tr>\n",
              "      <th id=\"T_fd7d9_level0_row2\" class=\"row_heading level0 row2\" >1887</th>\n",
              "      <td id=\"T_fd7d9_row2_col0\" class=\"data row2 col0\" >3.821907</td>\n",
              "      <td id=\"T_fd7d9_row2_col1\" class=\"data row2 col1\" >-5.731127</td>\n",
              "      <td id=\"T_fd7d9_row2_col2\" class=\"data row2 col2\" >1.909219</td>\n",
              "      <td id=\"T_fd7d9_row2_col3\" class=\"data row2 col3\" >0</td>\n",
              "    </tr>\n",
              "    <tr>\n",
              "      <th id=\"T_fd7d9_level0_row3\" class=\"row_heading level0 row3\" >864</th>\n",
              "      <td id=\"T_fd7d9_row3_col0\" class=\"data row3 col0\" >-5.828655</td>\n",
              "      <td id=\"T_fd7d9_row3_col1\" class=\"data row3 col1\" >2.651571</td>\n",
              "      <td id=\"T_fd7d9_row3_col2\" class=\"data row3 col2\" >3.177084</td>\n",
              "      <td id=\"T_fd7d9_row3_col3\" class=\"data row3 col3\" >1</td>\n",
              "    </tr>\n",
              "    <tr>\n",
              "      <th id=\"T_fd7d9_level0_row4\" class=\"row_heading level0 row4\" >2227</th>\n",
              "      <td id=\"T_fd7d9_row4_col0\" class=\"data row4 col0\" >-5.828977</td>\n",
              "      <td id=\"T_fd7d9_row4_col1\" class=\"data row4 col1\" >2.657138</td>\n",
              "      <td id=\"T_fd7d9_row4_col2\" class=\"data row4 col2\" >3.171838</td>\n",
              "      <td id=\"T_fd7d9_row4_col3\" class=\"data row4 col3\" >0</td>\n",
              "    </tr>\n",
              "    <tr>\n",
              "      <th id=\"T_fd7d9_level0_row5\" class=\"row_heading level0 row5\" >730</th>\n",
              "      <td id=\"T_fd7d9_row5_col0\" class=\"data row5 col0\" >58.875419</td>\n",
              "      <td id=\"T_fd7d9_row5_col1\" class=\"data row5 col1\" >-354.790346</td>\n",
              "      <td id=\"T_fd7d9_row5_col2\" class=\"data row5 col2\" >-24.085074</td>\n",
              "      <td id=\"T_fd7d9_row5_col3\" class=\"data row5 col3\" >1</td>\n",
              "    </tr>\n",
              "    <tr>\n",
              "      <th id=\"T_fd7d9_level0_row6\" class=\"row_heading level0 row6\" >661</th>\n",
              "      <td id=\"T_fd7d9_row6_col0\" class=\"data row6 col0\" >19.736746</td>\n",
              "      <td id=\"T_fd7d9_row6_col1\" class=\"data row6 col1\" >48.771194</td>\n",
              "      <td id=\"T_fd7d9_row6_col2\" class=\"data row6 col2\" >-49.846317</td>\n",
              "      <td id=\"T_fd7d9_row6_col3\" class=\"data row6 col3\" >1</td>\n",
              "    </tr>\n",
              "    <tr>\n",
              "      <th id=\"T_fd7d9_level0_row7\" class=\"row_heading level0 row7\" >1856</th>\n",
              "      <td id=\"T_fd7d9_row7_col0\" class=\"data row7 col0\" >79.245019</td>\n",
              "      <td id=\"T_fd7d9_row7_col1\" class=\"data row7 col1\" >-54.283175</td>\n",
              "      <td id=\"T_fd7d9_row7_col2\" class=\"data row7 col2\" >-24.961844</td>\n",
              "      <td id=\"T_fd7d9_row7_col3\" class=\"data row7 col3\" >0</td>\n",
              "    </tr>\n",
              "    <tr>\n",
              "      <th id=\"T_fd7d9_level0_row8\" class=\"row_heading level0 row8\" >2272</th>\n",
              "      <td id=\"T_fd7d9_row8_col0\" class=\"data row8 col0\" >-5.828977</td>\n",
              "      <td id=\"T_fd7d9_row8_col1\" class=\"data row8 col1\" >2.657138</td>\n",
              "      <td id=\"T_fd7d9_row8_col2\" class=\"data row8 col2\" >3.171838</td>\n",
              "      <td id=\"T_fd7d9_row8_col3\" class=\"data row8 col3\" >0</td>\n",
              "    </tr>\n",
              "    <tr>\n",
              "      <th id=\"T_fd7d9_level0_row9\" class=\"row_heading level0 row9\" >2427</th>\n",
              "      <td id=\"T_fd7d9_row9_col0\" class=\"data row9 col0\" >3.821907</td>\n",
              "      <td id=\"T_fd7d9_row9_col1\" class=\"data row9 col1\" >-5.731127</td>\n",
              "      <td id=\"T_fd7d9_row9_col2\" class=\"data row9 col2\" >1.909219</td>\n",
              "      <td id=\"T_fd7d9_row9_col3\" class=\"data row9 col3\" >0</td>\n",
              "    </tr>\n",
              "  </tbody>\n",
              "</table>\n"
            ]
          },
          "metadata": {},
          "execution_count": 7
        }
      ]
    },
    {
      "cell_type": "code",
      "source": [
        "df_class['Fault_Type'].value_counts(ascending=False)"
      ],
      "metadata": {
        "execution": {
          "iopub.status.busy": "2023-11-19T10:14:21.468529Z",
          "iopub.execute_input": "2023-11-19T10:14:21.469459Z",
          "iopub.status.idle": "2023-11-19T10:14:21.484728Z",
          "shell.execute_reply.started": "2023-11-19T10:14:21.469398Z",
          "shell.execute_reply": "2023-11-19T10:14:21.483106Z"
        },
        "trusted": true,
        "colab": {
          "base_uri": "https://localhost:8080/"
        },
        "id": "1yDEYT7Wae18",
        "outputId": "edb872a4-4a2f-471f-9c8b-ac8f528c5b68"
      },
      "execution_count": 8,
      "outputs": [
        {
          "output_type": "execute_result",
          "data": {
            "text/plain": [
              "Fault_Type\n",
              "1    1607\n",
              "0     860\n",
              "Name: count, dtype: int64"
            ]
          },
          "metadata": {},
          "execution_count": 8
        }
      ]
    },
    {
      "cell_type": "markdown",
      "source": [
        "<span style=\"background-color:pink;\n",
        "             color:Blue;\n",
        "             font-size:25px;\n",
        "             text-align:center;\n",
        "             border-radius:50px 80px;\n",
        "             font-weight:bold;\n",
        "             border:2px solid red;\n",
        "             padding:0px 20px;\"> Dependent and Independent Variable Sepration\n",
        "</span>"
      ],
      "metadata": {
        "id": "LJIRgH1Tae2v"
      }
    },
    {
      "cell_type": "code",
      "source": [
        "X = df_class.drop(['Fault_Type'],axis=1)\n",
        "y = df_class['Fault_Type']"
      ],
      "metadata": {
        "execution": {
          "iopub.status.busy": "2023-11-19T10:14:33.714489Z",
          "iopub.execute_input": "2023-11-19T10:14:33.714908Z",
          "iopub.status.idle": "2023-11-19T10:14:33.722616Z",
          "shell.execute_reply.started": "2023-11-19T10:14:33.714859Z",
          "shell.execute_reply": "2023-11-19T10:14:33.721637Z"
        },
        "trusted": true,
        "id": "Z7wB0c6Vae2v"
      },
      "execution_count": 9,
      "outputs": []
    },
    {
      "cell_type": "markdown",
      "source": [
        "<span style=\"background-color:pink;\n",
        "             color:Blue;\n",
        "             font-size:25px;\n",
        "             text-align:center;\n",
        "             border-radius:50px 80px;\n",
        "             font-weight:bold;\n",
        "             border:2px solid red;\n",
        "             padding:0px 20px;\"> Train Test Split\n",
        "</span>"
      ],
      "metadata": {
        "id": "TdOYyVrmae2w"
      }
    },
    {
      "cell_type": "code",
      "source": [
        "from sklearn.model_selection import train_test_split\n",
        "X_train,X_test,y_train,y_test = train_test_split(X,y,test_size=.20,random_state=21)"
      ],
      "metadata": {
        "execution": {
          "iopub.status.busy": "2023-11-19T10:14:33.724145Z",
          "iopub.execute_input": "2023-11-19T10:14:33.725344Z",
          "iopub.status.idle": "2023-11-19T10:14:33.799452Z",
          "shell.execute_reply.started": "2023-11-19T10:14:33.725285Z",
          "shell.execute_reply": "2023-11-19T10:14:33.798093Z"
        },
        "trusted": true,
        "id": "6RDTSGKnae2w"
      },
      "execution_count": 10,
      "outputs": []
    },
    {
      "cell_type": "markdown",
      "source": [
        "<h1 style=\"background-color:black\n",
        ";font-family:newtimeroman;font-size:350%;text-align:center;border-radius: 150px 150px; color:#40E0D0\"> Model Selection </h1><a id=0></a>"
      ],
      "metadata": {
        "id": "pY7cZtw6ae2w"
      }
    },
    {
      "cell_type": "markdown",
      "source": [
        "<div style=\"display:fill;\n",
        "            border-radius:15px;\n",
        "            background-color:cyan;\n",
        "            font-size:210%;\n",
        "            font-family:Vardana;\n",
        "            letter-spacing:0.5px;\n",
        "            padding:10px;\n",
        "            color:Brown;\n",
        "            border-style: solid;\n",
        "            border-color: red;\n",
        "            text-align:Left;\">\n",
        "<b>Logistic Regression</b>\n",
        "</div>"
      ],
      "metadata": {
        "id": "jcSf4MPCae2w"
      }
    },
    {
      "cell_type": "code",
      "source": [
        "pip show scikit-learn"
      ],
      "metadata": {
        "colab": {
          "base_uri": "https://localhost:8080/"
        },
        "id": "jXJk1hEJi1GH",
        "outputId": "cd258f2d-3eb8-4589-d3d7-e397fcf975ff"
      },
      "execution_count": 11,
      "outputs": [
        {
          "output_type": "stream",
          "name": "stdout",
          "text": [
            "Name: scikit-learn\n",
            "Version: 1.2.2\n",
            "Summary: A set of python modules for machine learning and data mining\n",
            "Home-page: http://scikit-learn.org\n",
            "Author: \n",
            "Author-email: \n",
            "License: new BSD\n",
            "Location: /usr/local/lib/python3.10/dist-packages\n",
            "Requires: joblib, numpy, scipy, threadpoolctl\n",
            "Required-by: bigframes, fastai, imbalanced-learn, librosa, mlxtend, qudida, sklearn-pandas, yellowbrick\n"
          ]
        }
      ]
    },
    {
      "cell_type": "code",
      "source": [
        "from sklearn.metrics import accuracy_score,classification_report,confusion_matrix\n",
        "\n",
        "# Logistic Regression\n",
        "from sklearn.linear_model import LogisticRegression\n",
        "logreg = LogisticRegression()\n",
        "logreg.fit(X_train, y_train)\n",
        "y_pred_lr = logreg.predict(X_test)\n",
        "\n",
        "log_train = round(logreg.score(X_train, y_train) * 100, 2)\n",
        "log_accuracy = round(accuracy_score(y_pred_lr, y_test) * 100, 2)\n",
        "\n",
        "\n",
        "print(\"Training Accuracy    :\",log_train ,\"%\")\n",
        "print(\"Model Accuracy Score :\",log_accuracy ,\"%\")\n",
        "print(\"\\033[1m--------------------------------------------------------\\033[0m\")\n",
        "print(\"Classification_Report: \\n\",classification_report(y_test,y_pred_lr))\n",
        "print(\"\\033[1m--------------------------------------------------------\\033[0m\")\n"
      ],
      "metadata": {
        "execution": {
          "iopub.status.busy": "2023-11-19T10:14:33.801192Z",
          "iopub.execute_input": "2023-11-19T10:14:33.801720Z",
          "iopub.status.idle": "2023-11-19T10:14:35.637176Z",
          "shell.execute_reply.started": "2023-11-19T10:14:33.801665Z",
          "shell.execute_reply": "2023-11-19T10:14:35.635823Z"
        },
        "trusted": true,
        "colab": {
          "base_uri": "https://localhost:8080/"
        },
        "id": "p0CKjyyZae2w",
        "outputId": "dba37de3-6da2-4484-a359-705602403518"
      },
      "execution_count": 12,
      "outputs": [
        {
          "output_type": "stream",
          "name": "stdout",
          "text": [
            "Training Accuracy    : 49.47 %\n",
            "Model Accuracy Score : 49.6 %\n",
            "\u001b[1m--------------------------------------------------------\u001b[0m\n",
            "Classification_Report: \n",
            "               precision    recall  f1-score   support\n",
            "\n",
            "           0       0.35      0.40      0.37       183\n",
            "           1       0.61      0.55      0.58       311\n",
            "\n",
            "    accuracy                           0.50       494\n",
            "   macro avg       0.48      0.48      0.48       494\n",
            "weighted avg       0.51      0.50      0.50       494\n",
            "\n",
            "\u001b[1m--------------------------------------------------------\u001b[0m\n"
          ]
        }
      ]
    },
    {
      "cell_type": "markdown",
      "source": [
        "<div style=\"display:fill;\n",
        "            border-radius:15px;\n",
        "            background-color:cyan;\n",
        "            font-size:210%;\n",
        "            font-family:Vardana;\n",
        "            letter-spacing:0.5px;\n",
        "            padding:10px;\n",
        "            color:Brown;\n",
        "            border-style: solid;\n",
        "            border-color: red;\n",
        "            text-align:Left;\">\n",
        "<b>Decision Tree Classifier</b>\n",
        "</div>"
      ],
      "metadata": {
        "id": "tDxm80kRae2x"
      }
    },
    {
      "cell_type": "code",
      "source": [
        "# Decision Tree\n",
        "from sklearn.tree import DecisionTreeClassifier\n",
        "decision = DecisionTreeClassifier()\n",
        "decision.fit(X_train, y_train)\n",
        "y_pred_dec = decision.predict(X_test)\n",
        "\n",
        "decision_train = round(decision.score(X_train, y_train) * 100, 2)\n",
        "decision_accuracy = round(accuracy_score(y_pred_dec, y_test) * 100, 2)\n",
        "\n",
        "print(\"Training Accuracy    :\",decision_train ,\"%\")\n",
        "print(\"Model Accuracy Score :\",decision_accuracy ,\"%\")\n",
        "print(\"\\033[1m--------------------------------------------------------\\033[0m\")\n",
        "print(\"Classification_Report: \\n\",classification_report(y_test,y_pred_dec))\n",
        "print(\"\\033[1m--------------------------------------------------------\\033[0m\")"
      ],
      "metadata": {
        "execution": {
          "iopub.status.busy": "2023-11-19T10:14:35.639112Z",
          "iopub.execute_input": "2023-11-19T10:14:35.639493Z",
          "iopub.status.idle": "2023-11-19T10:14:36.530816Z",
          "shell.execute_reply.started": "2023-11-19T10:14:35.639458Z",
          "shell.execute_reply": "2023-11-19T10:14:36.529261Z"
        },
        "trusted": true,
        "colab": {
          "base_uri": "https://localhost:8080/"
        },
        "id": "JcAiYTUDae2x",
        "outputId": "dc52c25e-8a4b-48a4-b83d-04d10d34ec46"
      },
      "execution_count": 13,
      "outputs": [
        {
          "output_type": "stream",
          "name": "stdout",
          "text": [
            "Training Accuracy    : 94.98 %\n",
            "Model Accuracy Score : 88.46 %\n",
            "\u001b[1m--------------------------------------------------------\u001b[0m\n",
            "Classification_Report: \n",
            "               precision    recall  f1-score   support\n",
            "\n",
            "           0       0.80      0.92      0.86       183\n",
            "           1       0.95      0.86      0.90       311\n",
            "\n",
            "    accuracy                           0.88       494\n",
            "   macro avg       0.87      0.89      0.88       494\n",
            "weighted avg       0.89      0.88      0.89       494\n",
            "\n",
            "\u001b[1m--------------------------------------------------------\u001b[0m\n"
          ]
        }
      ]
    },
    {
      "cell_type": "markdown",
      "source": [
        "<div style=\"display:fill;\n",
        "            border-radius:15px;\n",
        "            background-color:cyan;\n",
        "            font-size:210%;\n",
        "            font-family:Vardana;\n",
        "            letter-spacing:0.5px;\n",
        "            padding:10px;\n",
        "            color:Brown;\n",
        "            border-style: solid;\n",
        "            border-color: red;\n",
        "            text-align:Left;\">\n",
        "<b>Random Forest Classifier</b>\n",
        "</div>"
      ],
      "metadata": {
        "id": "sqQIzyZKae2y"
      }
    },
    {
      "cell_type": "code",
      "source": [
        "# Random Forest\n",
        "from sklearn.ensemble import RandomForestClassifier\n",
        "random_forest = RandomForestClassifier(n_estimators=100)\n",
        "random_forest.fit(X_train, y_train)\n",
        "y_pred_rf = random_forest.predict(X_test)\n",
        "random_forest.score(X_train, y_train)\n",
        "\n",
        "random_forest_train = round(random_forest.score(X_train, y_train) * 100, 2)\n",
        "random_forest_accuracy = round(accuracy_score(y_pred_rf, y_test) * 100, 2)\n",
        "\n",
        "print(\"Training Accuracy    :\",random_forest_train ,\"%\")\n",
        "print(\"Model Accuracy Score :\",random_forest_accuracy ,\"%\")\n",
        "print(\"\\033[1m--------------------------------------------------------\\033[0m\")\n",
        "print(\"Classification_Report: \\n\",classification_report(y_test,y_pred_rf))\n",
        "print(\"\\033[1m--------------------------------------------------------\\033[0m\")"
      ],
      "metadata": {
        "execution": {
          "iopub.status.busy": "2023-11-19T10:14:39.459616Z",
          "iopub.execute_input": "2023-11-19T10:14:39.460207Z",
          "iopub.status.idle": "2023-11-19T10:14:41.288816Z",
          "shell.execute_reply.started": "2023-11-19T10:14:39.460158Z",
          "shell.execute_reply": "2023-11-19T10:14:41.286914Z"
        },
        "trusted": true,
        "colab": {
          "base_uri": "https://localhost:8080/"
        },
        "id": "n7QTVLJhae2y",
        "outputId": "6414f593-d828-4322-f34c-ded656acaf07"
      },
      "execution_count": 14,
      "outputs": [
        {
          "output_type": "stream",
          "name": "stdout",
          "text": [
            "Training Accuracy    : 94.98 %\n",
            "Model Accuracy Score : 89.07 %\n",
            "\u001b[1m--------------------------------------------------------\u001b[0m\n",
            "Classification_Report: \n",
            "               precision    recall  f1-score   support\n",
            "\n",
            "           0       0.81      0.92      0.86       183\n",
            "           1       0.95      0.87      0.91       311\n",
            "\n",
            "    accuracy                           0.89       494\n",
            "   macro avg       0.88      0.90      0.89       494\n",
            "weighted avg       0.90      0.89      0.89       494\n",
            "\n",
            "\u001b[1m--------------------------------------------------------\u001b[0m\n"
          ]
        }
      ]
    },
    {
      "cell_type": "markdown",
      "source": [
        "<div style=\"display:fill;\n",
        "            border-radius:15px;\n",
        "            background-color:cyan;\n",
        "            font-size:210%;\n",
        "            font-family:Vardana;\n",
        "            letter-spacing:0.5px;\n",
        "            padding:10px;\n",
        "            color:Brown;\n",
        "            border-style: solid;\n",
        "            border-color: red;\n",
        "            text-align:Left;\">\n",
        "<b>XGB Classifier</b>\n",
        "</div>"
      ],
      "metadata": {
        "id": "79lodCvDae2y"
      }
    },
    {
      "cell_type": "code",
      "source": [
        "import xgboost as Xgb\n",
        "xgb = Xgb.XGBClassifier()\n",
        "xgb.fit(X_train,y_train)\n",
        "y_pred_xgb = xgb.predict(X_test)\n",
        "xgb.score(X_train, y_train)\n",
        "\n",
        "xgb_train = round(xgb.score(X_train, y_train) * 100, 2)\n",
        "xgb_accuracy = round(accuracy_score(y_pred_xgb, y_test) * 100, 2)\n",
        "\n",
        "print(\"Training Accuracy    :\",xgb_train ,\"%\")\n",
        "print(\"Model Accuracy Score :\",xgb_accuracy ,\"%\")\n",
        "print(\"\\033[1m--------------------------------------------------------\\033[0m\")\n",
        "print(\"Classification_Report: \\n\",classification_report(y_test,y_pred_xgb))\n",
        "print(\"\\033[1m--------------------------------------------------------\\033[0m\")"
      ],
      "metadata": {
        "execution": {
          "iopub.status.busy": "2023-11-19T10:14:41.290532Z",
          "iopub.execute_input": "2023-11-19T10:14:41.290971Z",
          "iopub.status.idle": "2023-11-19T10:14:43.633251Z",
          "shell.execute_reply.started": "2023-11-19T10:14:41.290933Z",
          "shell.execute_reply": "2023-11-19T10:14:43.632057Z"
        },
        "trusted": true,
        "colab": {
          "base_uri": "https://localhost:8080/"
        },
        "id": "M4Cldvn8ae2y",
        "outputId": "7c7d3f0d-8b5b-4a3c-c5aa-a3da820f911f"
      },
      "execution_count": 15,
      "outputs": [
        {
          "output_type": "stream",
          "name": "stdout",
          "text": [
            "Training Accuracy    : 93.56 %\n",
            "Model Accuracy Score : 87.04 %\n",
            "\u001b[1m--------------------------------------------------------\u001b[0m\n",
            "Classification_Report: \n",
            "               precision    recall  f1-score   support\n",
            "\n",
            "           0       0.78      0.90      0.84       183\n",
            "           1       0.93      0.86      0.89       311\n",
            "\n",
            "    accuracy                           0.87       494\n",
            "   macro avg       0.86      0.88      0.86       494\n",
            "weighted avg       0.88      0.87      0.87       494\n",
            "\n",
            "\u001b[1m--------------------------------------------------------\u001b[0m\n"
          ]
        }
      ]
    },
    {
      "cell_type": "markdown",
      "source": [
        "<div style=\"display:fill;\n",
        "            border-radius:15px;\n",
        "            background-color:cyan;\n",
        "            font-size:210%;\n",
        "            font-family:Vardana;\n",
        "            letter-spacing:0.5px;\n",
        "            padding:10px;\n",
        "            color:Brown;\n",
        "            border-style: solid;\n",
        "            border-color: red;\n",
        "            text-align:Left;\">\n",
        "<b>Support Vector Machines</b>\n",
        "</div>"
      ],
      "metadata": {
        "id": "1JTRS7oPae2z"
      }
    },
    {
      "cell_type": "code",
      "source": [
        "# Support Vector Machines\n",
        "from sklearn.svm import SVC\n",
        "svc = SVC()\n",
        "svc.fit(X_train, y_train)\n",
        "y_pred_svc = svc.predict(X_test)\n",
        "\n",
        "svc_train = round(svc.score(X_train, y_train) * 100, 2)\n",
        "svc_accuracy = round(accuracy_score(y_pred_svc, y_test) * 100, 2)\n",
        "\n",
        "print(\"Training Accuracy    :\",svc_train ,\"%\")\n",
        "print(\"Model Accuracy Score :\",svc_accuracy ,\"%\")\n",
        "print(\"\\033[1m--------------------------------------------------------\\033[0m\")\n",
        "print(\"Classification_Report: \\n\",classification_report(y_test,y_pred_svc))\n",
        "print(\"\\033[1m--------------------------------------------------------\\033[0m\")"
      ],
      "metadata": {
        "execution": {
          "iopub.status.busy": "2023-11-19T10:14:43.635496Z",
          "iopub.execute_input": "2023-11-19T10:14:43.636898Z",
          "iopub.status.idle": "2023-11-19T10:14:47.164227Z",
          "shell.execute_reply.started": "2023-11-19T10:14:43.636846Z",
          "shell.execute_reply": "2023-11-19T10:14:47.162811Z"
        },
        "trusted": true,
        "colab": {
          "base_uri": "https://localhost:8080/"
        },
        "id": "mVUx2zq0ae2z",
        "outputId": "2231057b-b2a5-4fce-ded7-88def705f7ce"
      },
      "execution_count": 16,
      "outputs": [
        {
          "output_type": "stream",
          "name": "stdout",
          "text": [
            "Training Accuracy    : 71.16 %\n",
            "Model Accuracy Score : 71.05 %\n",
            "\u001b[1m--------------------------------------------------------\u001b[0m\n",
            "Classification_Report: \n",
            "               precision    recall  f1-score   support\n",
            "\n",
            "           0       0.56      1.00      0.72       183\n",
            "           1       1.00      0.54      0.70       311\n",
            "\n",
            "    accuracy                           0.71       494\n",
            "   macro avg       0.78      0.77      0.71       494\n",
            "weighted avg       0.84      0.71      0.71       494\n",
            "\n",
            "\u001b[1m--------------------------------------------------------\u001b[0m\n"
          ]
        }
      ]
    },
    {
      "cell_type": "markdown",
      "source": [
        "<h1 style=\"background-color:black\n",
        ";font-family:newtimeroman;font-size:350%;text-align:center;border-radius: 150px 150px; color:#40E0D0\"> Comparing Different Models </h1><a id=0></a>"
      ],
      "metadata": {
        "id": "WDY3YvmMae2z"
      }
    },
    {
      "cell_type": "code",
      "source": [
        "models = pd.DataFrame({\n",
        "    'Model': [\n",
        "        'Support Vector Machines', 'Logistic Regression', 'Random Forest',\n",
        "        'Decision Tree', 'XGBClassifier'\n",
        "    ],\n",
        "\n",
        "    'Training Accuracy':\n",
        "    [log_train, svc_train, decision_train, random_forest_train, xgb_train],\n",
        "\n",
        "    'Model Accuracy Score': [\n",
        "        log_accuracy, svc_accuracy, decision_accuracy, random_forest_accuracy,\n",
        "        xgb_accuracy\n",
        "    ]\n",
        "})"
      ],
      "metadata": {
        "execution": {
          "iopub.status.busy": "2023-11-19T10:14:47.166219Z",
          "iopub.execute_input": "2023-11-19T10:14:47.167640Z",
          "iopub.status.idle": "2023-11-19T10:14:47.176875Z",
          "shell.execute_reply.started": "2023-11-19T10:14:47.167589Z",
          "shell.execute_reply": "2023-11-19T10:14:47.174484Z"
        },
        "trusted": true,
        "id": "_TIl6nO-ae20"
      },
      "execution_count": 17,
      "outputs": []
    },
    {
      "cell_type": "markdown",
      "source": [
        "<h1 style=\"background-color:black\n",
        ";font-family:newtimeroman;font-size:350%;text-align:center;border-radius: 150px 150px; color:#40E0D0\"> Result Prediction</h1><a id=0></a>"
      ],
      "metadata": {
        "id": "dm4EBDUQae20"
      }
    },
    {
      "cell_type": "markdown",
      "source": [
        "<span style=\"background-color:yellow;\n",
        "             color:Black;\n",
        "             font-size:25px;\n",
        "             text-align:center;\n",
        "             border-radius:30px 80px;\n",
        "             font-weight:bold;\n",
        "             border:2px solid red;\n",
        "             padding:0px 20px;\">1. Random Forest Classifier\n",
        "</span>"
      ],
      "metadata": {
        "id": "0Mthu0l7ae20"
      }
    },
    {
      "cell_type": "code",
      "source": [
        "prediction1 = random_forest.predict(X_test)\n",
        "print(prediction1)"
      ],
      "metadata": {
        "execution": {
          "iopub.status.busy": "2023-11-19T10:14:47.214692Z",
          "iopub.execute_input": "2023-11-19T10:14:47.215765Z",
          "iopub.status.idle": "2023-11-19T10:14:47.269330Z",
          "shell.execute_reply.started": "2023-11-19T10:14:47.215710Z",
          "shell.execute_reply": "2023-11-19T10:14:47.267030Z"
        },
        "trusted": true,
        "colab": {
          "base_uri": "https://localhost:8080/"
        },
        "id": "6MzsSNhJae20",
        "outputId": "1ef04203-2b58-461a-f999-66489c939a1e"
      },
      "execution_count": 18,
      "outputs": [
        {
          "output_type": "stream",
          "name": "stdout",
          "text": [
            "[1 1 1 1 1 1 0 1 1 0 1 1 1 1 1 0 1 1 0 1 0 0 1 1 0 1 0 1 0 0 0 0 1 1 0 1 1\n",
            " 1 1 0 1 1 1 1 1 1 1 0 0 0 1 1 0 1 0 0 1 1 1 1 1 0 0 0 1 1 0 1 0 0 1 1 1 1\n",
            " 1 1 1 0 1 0 0 1 1 0 1 1 1 1 1 1 0 0 1 1 1 0 0 1 1 0 1 0 0 1 0 0 0 1 1 0 1\n",
            " 1 1 1 0 1 1 1 0 0 0 1 1 1 1 1 1 1 1 1 1 0 1 1 1 1 1 0 0 0 1 0 0 1 1 1 0 0\n",
            " 0 0 1 0 1 0 1 1 0 1 1 1 1 1 0 0 1 0 1 1 1 1 0 1 1 0 1 0 1 0 1 0 1 0 0 1 0\n",
            " 1 1 0 1 1 0 0 1 1 1 1 0 1 0 0 0 0 1 1 1 1 1 0 0 0 0 0 1 0 0 1 1 0 1 1 1 1\n",
            " 1 1 0 1 0 0 1 0 1 0 0 1 0 1 1 1 0 1 1 0 1 0 1 0 1 1 0 1 1 1 0 1 0 1 0 0 1\n",
            " 1 0 1 1 1 1 1 0 1 0 0 0 0 0 1 1 1 1 0 1 1 1 0 1 1 0 1 1 0 0 1 1 0 1 0 0 0\n",
            " 1 0 0 1 0 0 0 0 0 0 1 1 1 1 0 0 1 0 1 1 1 1 1 1 0 0 1 0 0 0 0 1 1 1 0 1 0\n",
            " 0 0 0 1 1 0 1 1 1 1 0 0 0 0 0 1 1 1 0 0 0 0 1 0 0 1 1 1 0 0 1 0 1 1 1 0 0\n",
            " 1 1 1 1 1 1 0 1 1 0 1 1 1 1 1 1 0 1 1 1 0 1 1 1 1 1 0 0 0 1 0 0 1 1 1 1 0\n",
            " 1 1 1 0 1 1 1 1 1 1 0 1 0 0 0 0 1 0 0 1 0 1 0 0 0 1 0 1 0 0 0 1 0 0 0 1 1\n",
            " 1 1 1 1 0 1 1 0 0 0 1 1 1 1 1 0 1 1 1 1 1 1 1 0 0 1 0 0 1 0 0 0 0 0 0 0 1\n",
            " 0 0 1 1 0 1 1 0 1 0 1 1 0]\n"
          ]
        }
      ]
    },
    {
      "cell_type": "code",
      "source": [
        "cross_checking = pd.DataFrame({'Actual' : y_test , 'Predicted' : prediction1})\n",
        "cross_checking.sample(5).style.background_gradient(\n",
        "        cmap='coolwarm').set_properties(**{\n",
        "            'color': 'LigntGreen',\n",
        "            'font-size': '15px'\n",
        "        })"
      ],
      "metadata": {
        "execution": {
          "iopub.status.busy": "2023-11-19T10:14:47.271162Z",
          "iopub.execute_input": "2023-11-19T10:14:47.275080Z",
          "iopub.status.idle": "2023-11-19T10:14:47.300215Z",
          "shell.execute_reply.started": "2023-11-19T10:14:47.274998Z",
          "shell.execute_reply": "2023-11-19T10:14:47.298731Z"
        },
        "trusted": true,
        "colab": {
          "base_uri": "https://localhost:8080/",
          "height": 217
        },
        "id": "g503-RwCae21",
        "outputId": "05dad9cf-2b2d-46f8-b148-b5d165c01249"
      },
      "execution_count": 19,
      "outputs": [
        {
          "output_type": "execute_result",
          "data": {
            "text/plain": [
              "<pandas.io.formats.style.Styler at 0x78225938fa60>"
            ],
            "text/html": [
              "<style type=\"text/css\">\n",
              "#T_98e32_row0_col0, #T_98e32_row0_col1, #T_98e32_row1_col0, #T_98e32_row1_col1, #T_98e32_row3_col0, #T_98e32_row3_col1, #T_98e32_row4_col0, #T_98e32_row4_col1 {\n",
              "  background-color: #b40426;\n",
              "  color: #f1f1f1;\n",
              "  color: LigntGreen;\n",
              "  font-size: 15px;\n",
              "}\n",
              "#T_98e32_row2_col0, #T_98e32_row2_col1 {\n",
              "  background-color: #3b4cc0;\n",
              "  color: #f1f1f1;\n",
              "  color: LigntGreen;\n",
              "  font-size: 15px;\n",
              "}\n",
              "</style>\n",
              "<table id=\"T_98e32\" class=\"dataframe\">\n",
              "  <thead>\n",
              "    <tr>\n",
              "      <th class=\"blank level0\" >&nbsp;</th>\n",
              "      <th id=\"T_98e32_level0_col0\" class=\"col_heading level0 col0\" >Actual</th>\n",
              "      <th id=\"T_98e32_level0_col1\" class=\"col_heading level0 col1\" >Predicted</th>\n",
              "    </tr>\n",
              "  </thead>\n",
              "  <tbody>\n",
              "    <tr>\n",
              "      <th id=\"T_98e32_level0_row0\" class=\"row_heading level0 row0\" >254</th>\n",
              "      <td id=\"T_98e32_row0_col0\" class=\"data row0 col0\" >1</td>\n",
              "      <td id=\"T_98e32_row0_col1\" class=\"data row0 col1\" >1</td>\n",
              "    </tr>\n",
              "    <tr>\n",
              "      <th id=\"T_98e32_level0_row1\" class=\"row_heading level0 row1\" >1468</th>\n",
              "      <td id=\"T_98e32_row1_col0\" class=\"data row1 col0\" >1</td>\n",
              "      <td id=\"T_98e32_row1_col1\" class=\"data row1 col1\" >1</td>\n",
              "    </tr>\n",
              "    <tr>\n",
              "      <th id=\"T_98e32_level0_row2\" class=\"row_heading level0 row2\" >174</th>\n",
              "      <td id=\"T_98e32_row2_col0\" class=\"data row2 col0\" >0</td>\n",
              "      <td id=\"T_98e32_row2_col1\" class=\"data row2 col1\" >0</td>\n",
              "    </tr>\n",
              "    <tr>\n",
              "      <th id=\"T_98e32_level0_row3\" class=\"row_heading level0 row3\" >993</th>\n",
              "      <td id=\"T_98e32_row3_col0\" class=\"data row3 col0\" >1</td>\n",
              "      <td id=\"T_98e32_row3_col1\" class=\"data row3 col1\" >1</td>\n",
              "    </tr>\n",
              "    <tr>\n",
              "      <th id=\"T_98e32_level0_row4\" class=\"row_heading level0 row4\" >978</th>\n",
              "      <td id=\"T_98e32_row4_col0\" class=\"data row4 col0\" >1</td>\n",
              "      <td id=\"T_98e32_row4_col1\" class=\"data row4 col1\" >1</td>\n",
              "    </tr>\n",
              "  </tbody>\n",
              "</table>\n"
            ]
          },
          "metadata": {},
          "execution_count": 19
        }
      ]
    },
    {
      "cell_type": "markdown",
      "source": [
        "<span style=\"background-color:yellow;\n",
        "             color:Black;\n",
        "             font-size:25px;\n",
        "             text-align:center;\n",
        "             border-radius:30px 80px;\n",
        "             font-weight:bold;\n",
        "             border:2px solid red;\n",
        "             padding:0px 20px;\">2. Decision Tree Classifier\n",
        "</span>"
      ],
      "metadata": {
        "id": "h5I0a7KUae21"
      }
    },
    {
      "cell_type": "code",
      "source": [
        "prediction2 = decision.predict(X_test)\n",
        "print(prediction2)"
      ],
      "metadata": {
        "execution": {
          "iopub.status.busy": "2023-11-19T10:14:47.302690Z",
          "iopub.execute_input": "2023-11-19T10:14:47.303557Z",
          "iopub.status.idle": "2023-11-19T10:14:47.315458Z",
          "shell.execute_reply.started": "2023-11-19T10:14:47.303501Z",
          "shell.execute_reply": "2023-11-19T10:14:47.313634Z"
        },
        "trusted": true,
        "colab": {
          "base_uri": "https://localhost:8080/"
        },
        "id": "kH6iCRh_ae21",
        "outputId": "76d33ebf-6434-440f-9231-6ab396521501"
      },
      "execution_count": 20,
      "outputs": [
        {
          "output_type": "stream",
          "name": "stdout",
          "text": [
            "[1 1 1 0 1 1 0 1 1 0 1 1 1 1 1 0 1 1 0 1 0 0 1 1 0 1 0 1 0 0 0 0 1 1 0 1 1\n",
            " 1 1 0 1 1 1 1 1 1 1 0 0 0 1 1 0 1 0 0 1 1 1 1 0 0 0 0 1 1 0 1 0 0 1 1 1 1\n",
            " 1 1 1 0 1 0 0 1 1 0 1 1 1 1 1 1 0 0 1 1 1 0 0 1 1 0 1 0 0 1 0 0 0 1 1 0 1\n",
            " 1 1 1 0 1 1 1 0 0 0 1 1 1 1 1 1 1 1 1 1 0 1 1 1 1 1 0 0 0 1 0 0 1 1 1 0 0\n",
            " 0 0 1 0 1 0 1 1 0 1 1 1 1 1 0 0 1 0 1 1 1 1 0 1 1 0 1 0 1 0 1 0 1 0 0 1 0\n",
            " 1 1 0 1 1 0 0 1 1 1 1 0 1 0 0 0 0 1 1 1 1 1 0 0 0 0 0 1 0 0 1 1 0 1 1 1 1\n",
            " 1 1 0 1 0 0 1 0 1 0 0 1 0 1 1 1 0 1 1 0 1 0 1 0 1 1 0 1 1 0 0 1 0 1 0 0 1\n",
            " 1 0 1 1 1 1 1 0 1 0 0 0 0 0 1 1 1 1 0 1 1 1 0 1 1 0 1 1 0 0 1 1 0 1 0 0 0\n",
            " 1 0 0 1 0 0 0 0 0 0 1 1 1 1 0 0 1 0 1 1 1 1 1 1 0 0 1 0 0 0 0 1 1 0 0 1 0\n",
            " 0 0 0 1 1 0 1 1 1 1 0 0 0 0 0 1 1 1 0 0 0 0 1 0 0 1 0 1 0 0 1 0 1 1 1 0 0\n",
            " 1 1 1 1 1 1 0 1 1 0 1 1 1 1 1 1 0 1 1 1 0 1 1 1 1 1 0 0 0 1 0 0 1 1 1 1 0\n",
            " 1 1 1 0 1 1 1 1 1 1 0 1 0 0 0 0 1 0 0 1 0 1 0 0 0 1 0 1 0 0 0 1 0 0 0 1 1\n",
            " 1 1 1 1 0 1 1 0 0 0 1 1 1 1 1 0 1 1 1 1 1 1 1 0 0 1 0 0 1 0 0 0 0 0 0 0 1\n",
            " 0 0 1 1 0 1 1 0 1 0 1 1 0]\n"
          ]
        }
      ]
    },
    {
      "cell_type": "code",
      "source": [
        "cross_checking = pd.DataFrame({'Actual' : y_test , 'Predicted' : prediction2})\n",
        "cross_checking.sample(5).style.background_gradient(\n",
        "        cmap='coolwarm').set_properties(**{\n",
        "            'color': 'LigntGreen',\n",
        "            'font-size': '15px'\n",
        "        })"
      ],
      "metadata": {
        "execution": {
          "iopub.status.busy": "2023-11-19T10:14:47.317578Z",
          "iopub.execute_input": "2023-11-19T10:14:47.318255Z",
          "iopub.status.idle": "2023-11-19T10:14:47.346366Z",
          "shell.execute_reply.started": "2023-11-19T10:14:47.318144Z",
          "shell.execute_reply": "2023-11-19T10:14:47.344772Z"
        },
        "trusted": true,
        "colab": {
          "base_uri": "https://localhost:8080/",
          "height": 217
        },
        "id": "c-jJkM3sae21",
        "outputId": "6bf85e95-3e78-4152-b802-004fe08bbe4b"
      },
      "execution_count": 21,
      "outputs": [
        {
          "output_type": "execute_result",
          "data": {
            "text/plain": [
              "<pandas.io.formats.style.Styler at 0x78225938f4c0>"
            ],
            "text/html": [
              "<style type=\"text/css\">\n",
              "#T_1d400_row0_col0, #T_1d400_row0_col1, #T_1d400_row1_col0 {\n",
              "  background-color: #b40426;\n",
              "  color: #f1f1f1;\n",
              "  color: LigntGreen;\n",
              "  font-size: 15px;\n",
              "}\n",
              "#T_1d400_row1_col1, #T_1d400_row2_col0, #T_1d400_row2_col1, #T_1d400_row3_col0, #T_1d400_row3_col1, #T_1d400_row4_col0, #T_1d400_row4_col1 {\n",
              "  background-color: #3b4cc0;\n",
              "  color: #f1f1f1;\n",
              "  color: LigntGreen;\n",
              "  font-size: 15px;\n",
              "}\n",
              "</style>\n",
              "<table id=\"T_1d400\" class=\"dataframe\">\n",
              "  <thead>\n",
              "    <tr>\n",
              "      <th class=\"blank level0\" >&nbsp;</th>\n",
              "      <th id=\"T_1d400_level0_col0\" class=\"col_heading level0 col0\" >Actual</th>\n",
              "      <th id=\"T_1d400_level0_col1\" class=\"col_heading level0 col1\" >Predicted</th>\n",
              "    </tr>\n",
              "  </thead>\n",
              "  <tbody>\n",
              "    <tr>\n",
              "      <th id=\"T_1d400_level0_row0\" class=\"row_heading level0 row0\" >360</th>\n",
              "      <td id=\"T_1d400_row0_col0\" class=\"data row0 col0\" >1</td>\n",
              "      <td id=\"T_1d400_row0_col1\" class=\"data row0 col1\" >1</td>\n",
              "    </tr>\n",
              "    <tr>\n",
              "      <th id=\"T_1d400_level0_row1\" class=\"row_heading level0 row1\" >844</th>\n",
              "      <td id=\"T_1d400_row1_col0\" class=\"data row1 col0\" >1</td>\n",
              "      <td id=\"T_1d400_row1_col1\" class=\"data row1 col1\" >0</td>\n",
              "    </tr>\n",
              "    <tr>\n",
              "      <th id=\"T_1d400_level0_row2\" class=\"row_heading level0 row2\" >2102</th>\n",
              "      <td id=\"T_1d400_row2_col0\" class=\"data row2 col0\" >0</td>\n",
              "      <td id=\"T_1d400_row2_col1\" class=\"data row2 col1\" >0</td>\n",
              "    </tr>\n",
              "    <tr>\n",
              "      <th id=\"T_1d400_level0_row3\" class=\"row_heading level0 row3\" >2134</th>\n",
              "      <td id=\"T_1d400_row3_col0\" class=\"data row3 col0\" >0</td>\n",
              "      <td id=\"T_1d400_row3_col1\" class=\"data row3 col1\" >0</td>\n",
              "    </tr>\n",
              "    <tr>\n",
              "      <th id=\"T_1d400_level0_row4\" class=\"row_heading level0 row4\" >1998</th>\n",
              "      <td id=\"T_1d400_row4_col0\" class=\"data row4 col0\" >0</td>\n",
              "      <td id=\"T_1d400_row4_col1\" class=\"data row4 col1\" >0</td>\n",
              "    </tr>\n",
              "  </tbody>\n",
              "</table>\n"
            ]
          },
          "metadata": {},
          "execution_count": 21
        }
      ]
    },
    {
      "cell_type": "markdown",
      "source": [
        "<span style=\"background-color:yellow;\n",
        "             color:Black;\n",
        "             font-size:25px;\n",
        "             text-align:center;\n",
        "             border-radius:30px 80px;\n",
        "             font-weight:bold;\n",
        "             border:2px solid red;\n",
        "             padding:0px 20px;\">3. XGB Classifier\n",
        "</span>"
      ],
      "metadata": {
        "id": "AcZ39pxZae21"
      }
    },
    {
      "cell_type": "code",
      "source": [
        "prediction3 = xgb.predict(X_test)\n",
        "print(prediction3)"
      ],
      "metadata": {
        "execution": {
          "iopub.status.busy": "2023-11-19T10:14:47.348260Z",
          "iopub.execute_input": "2023-11-19T10:14:47.348697Z",
          "iopub.status.idle": "2023-11-19T10:14:47.370183Z",
          "shell.execute_reply.started": "2023-11-19T10:14:47.348659Z",
          "shell.execute_reply": "2023-11-19T10:14:47.369068Z"
        },
        "trusted": true,
        "colab": {
          "base_uri": "https://localhost:8080/"
        },
        "id": "QwZ_RXnmae21",
        "outputId": "2e768d9f-a748-4b01-8cfa-42d63373cff6"
      },
      "execution_count": 22,
      "outputs": [
        {
          "output_type": "stream",
          "name": "stdout",
          "text": [
            "[1 1 1 1 1 1 0 1 1 0 1 1 0 1 1 0 1 1 0 1 1 0 1 1 0 1 0 1 0 0 0 0 1 1 0 1 1\n",
            " 1 1 0 1 1 1 1 1 1 1 0 0 0 1 1 0 1 0 0 1 1 1 1 1 0 0 0 0 1 0 1 0 0 1 1 1 1\n",
            " 1 1 1 0 1 0 1 1 1 0 1 1 1 1 1 1 0 0 0 1 1 0 0 1 1 0 1 0 0 1 0 0 0 1 1 0 1\n",
            " 1 1 1 0 1 1 1 0 0 0 1 1 1 1 1 1 1 1 1 1 0 1 1 1 1 1 0 1 0 1 0 0 1 1 1 0 0\n",
            " 0 0 1 0 1 0 1 1 0 1 1 1 1 1 0 0 1 0 1 1 1 1 0 1 1 0 1 0 1 0 1 0 1 0 0 1 0\n",
            " 0 1 0 1 1 0 0 1 1 1 1 0 1 0 0 0 0 1 1 1 1 1 0 0 0 0 0 1 0 0 1 1 0 1 1 1 1\n",
            " 1 1 0 1 0 0 1 0 1 0 0 1 0 1 1 1 0 1 1 0 1 0 1 0 1 1 0 1 1 1 0 1 0 1 0 0 1\n",
            " 1 0 1 1 1 1 1 0 1 0 0 0 1 0 1 0 1 1 0 1 1 1 0 1 1 0 1 1 0 0 1 1 0 1 0 0 0\n",
            " 1 0 0 1 0 0 0 0 0 0 1 1 1 1 0 0 1 0 1 1 1 1 1 1 0 0 1 0 0 0 0 1 1 1 0 1 1\n",
            " 0 0 0 1 1 0 1 1 1 1 0 0 0 1 0 1 1 1 0 0 0 0 1 0 0 1 1 1 0 0 1 0 1 1 1 0 0\n",
            " 1 1 1 0 1 1 0 1 1 0 1 1 1 1 1 1 0 1 1 1 0 1 1 0 1 1 0 0 0 1 0 0 1 1 1 1 0\n",
            " 1 1 1 0 1 1 1 1 0 1 0 1 0 0 0 0 1 0 0 1 0 1 0 0 0 1 0 1 0 0 0 1 0 0 1 1 1\n",
            " 1 1 1 1 0 1 1 0 0 0 1 1 1 1 1 0 1 1 1 1 1 1 1 0 0 1 0 0 1 0 0 0 0 0 0 0 1\n",
            " 0 0 1 1 0 1 1 0 1 0 1 0 0]\n"
          ]
        }
      ]
    },
    {
      "cell_type": "code",
      "source": [
        "cross_checking = pd.DataFrame({'Actual' : y_test , 'Predicted' : prediction3})\n",
        "cross_checking.sample(5).style.background_gradient(\n",
        "        cmap='coolwarm').set_properties(**{\n",
        "            'color': 'LigntGreen',\n",
        "            'font-size': '15px'\n",
        "        })"
      ],
      "metadata": {
        "execution": {
          "iopub.status.busy": "2023-11-19T10:14:47.377149Z",
          "iopub.execute_input": "2023-11-19T10:14:47.377941Z",
          "iopub.status.idle": "2023-11-19T10:14:47.403414Z",
          "shell.execute_reply.started": "2023-11-19T10:14:47.377897Z",
          "shell.execute_reply": "2023-11-19T10:14:47.402359Z"
        },
        "trusted": true,
        "colab": {
          "base_uri": "https://localhost:8080/",
          "height": 217
        },
        "id": "tX_NBsBYae21",
        "outputId": "4ca6bba4-d3fb-40b8-f83a-fc44799ef0d9"
      },
      "execution_count": 23,
      "outputs": [
        {
          "output_type": "execute_result",
          "data": {
            "text/plain": [
              "<pandas.io.formats.style.Styler at 0x7822721c4d90>"
            ],
            "text/html": [
              "<style type=\"text/css\">\n",
              "#T_b6266_row0_col0, #T_b6266_row0_col1, #T_b6266_row1_col0, #T_b6266_row1_col1, #T_b6266_row2_col0, #T_b6266_row3_col0, #T_b6266_row3_col1, #T_b6266_row4_col1 {\n",
              "  background-color: #b40426;\n",
              "  color: #f1f1f1;\n",
              "  color: LigntGreen;\n",
              "  font-size: 15px;\n",
              "}\n",
              "#T_b6266_row2_col1, #T_b6266_row4_col0 {\n",
              "  background-color: #3b4cc0;\n",
              "  color: #f1f1f1;\n",
              "  color: LigntGreen;\n",
              "  font-size: 15px;\n",
              "}\n",
              "</style>\n",
              "<table id=\"T_b6266\" class=\"dataframe\">\n",
              "  <thead>\n",
              "    <tr>\n",
              "      <th class=\"blank level0\" >&nbsp;</th>\n",
              "      <th id=\"T_b6266_level0_col0\" class=\"col_heading level0 col0\" >Actual</th>\n",
              "      <th id=\"T_b6266_level0_col1\" class=\"col_heading level0 col1\" >Predicted</th>\n",
              "    </tr>\n",
              "  </thead>\n",
              "  <tbody>\n",
              "    <tr>\n",
              "      <th id=\"T_b6266_level0_row0\" class=\"row_heading level0 row0\" >709</th>\n",
              "      <td id=\"T_b6266_row0_col0\" class=\"data row0 col0\" >1</td>\n",
              "      <td id=\"T_b6266_row0_col1\" class=\"data row0 col1\" >1</td>\n",
              "    </tr>\n",
              "    <tr>\n",
              "      <th id=\"T_b6266_level0_row1\" class=\"row_heading level0 row1\" >342</th>\n",
              "      <td id=\"T_b6266_row1_col0\" class=\"data row1 col0\" >1</td>\n",
              "      <td id=\"T_b6266_row1_col1\" class=\"data row1 col1\" >1</td>\n",
              "    </tr>\n",
              "    <tr>\n",
              "      <th id=\"T_b6266_level0_row2\" class=\"row_heading level0 row2\" >963</th>\n",
              "      <td id=\"T_b6266_row2_col0\" class=\"data row2 col0\" >1</td>\n",
              "      <td id=\"T_b6266_row2_col1\" class=\"data row2 col1\" >0</td>\n",
              "    </tr>\n",
              "    <tr>\n",
              "      <th id=\"T_b6266_level0_row3\" class=\"row_heading level0 row3\" >1540</th>\n",
              "      <td id=\"T_b6266_row3_col0\" class=\"data row3 col0\" >1</td>\n",
              "      <td id=\"T_b6266_row3_col1\" class=\"data row3 col1\" >1</td>\n",
              "    </tr>\n",
              "    <tr>\n",
              "      <th id=\"T_b6266_level0_row4\" class=\"row_heading level0 row4\" >72</th>\n",
              "      <td id=\"T_b6266_row4_col0\" class=\"data row4 col0\" >0</td>\n",
              "      <td id=\"T_b6266_row4_col1\" class=\"data row4 col1\" >1</td>\n",
              "    </tr>\n",
              "  </tbody>\n",
              "</table>\n"
            ]
          },
          "metadata": {},
          "execution_count": 23
        }
      ]
    },
    {
      "cell_type": "markdown",
      "source": [
        "<span style=\"background-color:yellow;\n",
        "             color:Black;\n",
        "             font-size:25px;\n",
        "             text-align:center;\n",
        "             border-radius:30px 80px;\n",
        "             font-weight:bold;\n",
        "             border:2px solid red;\n",
        "             padding:0px 20px;\">4. Support Vector Machines\n",
        "</span>"
      ],
      "metadata": {
        "id": "M9BeRLsnae22"
      }
    },
    {
      "cell_type": "code",
      "source": [
        "prediction4 = svc.predict(X_test)\n",
        "print(prediction4)"
      ],
      "metadata": {
        "execution": {
          "iopub.status.busy": "2023-11-19T10:14:47.404869Z",
          "iopub.execute_input": "2023-11-19T10:14:47.405489Z",
          "iopub.status.idle": "2023-11-19T10:14:47.753973Z",
          "shell.execute_reply.started": "2023-11-19T10:14:47.405452Z",
          "shell.execute_reply": "2023-11-19T10:14:47.752968Z"
        },
        "trusted": true,
        "colab": {
          "base_uri": "https://localhost:8080/"
        },
        "id": "4DhIz5QQae22",
        "outputId": "bc4bd574-f59a-4524-8453-4ae652d39c42"
      },
      "execution_count": 24,
      "outputs": [
        {
          "output_type": "stream",
          "name": "stdout",
          "text": [
            "[0 0 1 0 1 0 0 1 0 0 1 0 0 1 1 0 1 1 0 1 0 0 0 1 0 0 0 1 0 0 0 0 1 1 0 1 0\n",
            " 0 0 0 0 0 0 0 0 1 0 0 0 0 0 0 0 1 0 0 0 1 1 0 0 0 0 0 0 1 0 0 0 0 1 0 1 1\n",
            " 1 0 1 0 0 0 0 1 0 0 0 1 1 1 0 1 0 0 0 1 0 0 0 0 0 0 1 0 0 1 0 0 0 1 1 0 0\n",
            " 0 1 1 0 1 1 0 0 0 0 1 0 1 1 0 1 1 1 0 0 0 0 1 1 1 1 0 0 0 0 0 0 0 1 0 0 0\n",
            " 0 0 0 0 0 0 1 0 0 0 0 0 1 0 0 0 0 0 1 1 1 1 0 1 1 0 1 0 1 0 1 0 1 0 0 0 0\n",
            " 0 1 0 1 1 0 0 0 1 1 0 0 0 0 0 0 0 0 1 1 1 0 0 0 0 0 0 0 0 0 0 1 0 0 1 1 1\n",
            " 0 1 0 1 0 0 1 0 1 0 0 0 0 0 0 1 0 0 1 0 0 0 1 0 1 1 0 1 1 0 0 1 0 1 0 0 1\n",
            " 0 0 1 0 1 0 0 0 0 0 0 0 0 0 0 0 1 0 0 0 1 1 0 1 1 0 0 0 0 0 0 1 0 1 0 0 0\n",
            " 1 0 0 1 0 0 0 0 0 0 1 1 0 0 0 0 1 0 1 1 1 1 0 1 0 0 1 0 0 0 0 1 1 0 0 1 0\n",
            " 0 0 0 0 1 0 1 0 1 0 0 0 0 0 0 1 0 1 0 0 0 0 1 0 0 1 0 0 0 0 1 0 1 0 1 0 0\n",
            " 1 1 0 0 1 1 0 0 1 0 1 1 1 1 1 1 0 0 0 1 0 1 0 0 1 0 0 0 0 0 0 0 1 1 1 0 0\n",
            " 1 0 1 0 1 1 1 1 0 1 0 0 0 0 0 0 1 0 0 0 0 1 0 0 0 1 0 0 0 0 0 1 0 0 0 1 0\n",
            " 0 0 0 1 0 1 1 0 0 0 1 1 1 1 1 0 1 1 1 1 0 0 1 0 0 1 0 0 0 0 0 0 0 0 0 0 1\n",
            " 0 0 1 0 0 1 1 0 1 0 0 0 0]\n"
          ]
        }
      ]
    },
    {
      "cell_type": "code",
      "source": [
        "cross_checking = pd.DataFrame({'Actual' : y_test , 'Predicted' : prediction4})\n",
        "cross_checking.sample(5).style.background_gradient(\n",
        "        cmap='coolwarm').set_properties(**{\n",
        "            'color': 'LigntGreen',\n",
        "            'font-size': '15px'\n",
        "        })"
      ],
      "metadata": {
        "execution": {
          "iopub.status.busy": "2023-11-19T10:14:47.755404Z",
          "iopub.execute_input": "2023-11-19T10:14:47.755972Z",
          "iopub.status.idle": "2023-11-19T10:14:47.780010Z",
          "shell.execute_reply.started": "2023-11-19T10:14:47.755937Z",
          "shell.execute_reply": "2023-11-19T10:14:47.778370Z"
        },
        "trusted": true,
        "colab": {
          "base_uri": "https://localhost:8080/",
          "height": 217
        },
        "id": "Ph5h0V05ae22",
        "outputId": "44309283-e563-41cd-f50c-2854ba925edf"
      },
      "execution_count": 25,
      "outputs": [
        {
          "output_type": "execute_result",
          "data": {
            "text/plain": [
              "<pandas.io.formats.style.Styler at 0x7822b8a730a0>"
            ],
            "text/html": [
              "<style type=\"text/css\">\n",
              "#T_7079e_row0_col0, #T_7079e_row0_col1, #T_7079e_row1_col0, #T_7079e_row3_col0, #T_7079e_row3_col1, #T_7079e_row4_col0 {\n",
              "  background-color: #b40426;\n",
              "  color: #f1f1f1;\n",
              "  color: LigntGreen;\n",
              "  font-size: 15px;\n",
              "}\n",
              "#T_7079e_row1_col1, #T_7079e_row2_col0, #T_7079e_row2_col1, #T_7079e_row4_col1 {\n",
              "  background-color: #3b4cc0;\n",
              "  color: #f1f1f1;\n",
              "  color: LigntGreen;\n",
              "  font-size: 15px;\n",
              "}\n",
              "</style>\n",
              "<table id=\"T_7079e\" class=\"dataframe\">\n",
              "  <thead>\n",
              "    <tr>\n",
              "      <th class=\"blank level0\" >&nbsp;</th>\n",
              "      <th id=\"T_7079e_level0_col0\" class=\"col_heading level0 col0\" >Actual</th>\n",
              "      <th id=\"T_7079e_level0_col1\" class=\"col_heading level0 col1\" >Predicted</th>\n",
              "    </tr>\n",
              "  </thead>\n",
              "  <tbody>\n",
              "    <tr>\n",
              "      <th id=\"T_7079e_level0_row0\" class=\"row_heading level0 row0\" >1816</th>\n",
              "      <td id=\"T_7079e_row0_col0\" class=\"data row0 col0\" >1</td>\n",
              "      <td id=\"T_7079e_row0_col1\" class=\"data row0 col1\" >1</td>\n",
              "    </tr>\n",
              "    <tr>\n",
              "      <th id=\"T_7079e_level0_row1\" class=\"row_heading level0 row1\" >844</th>\n",
              "      <td id=\"T_7079e_row1_col0\" class=\"data row1 col0\" >1</td>\n",
              "      <td id=\"T_7079e_row1_col1\" class=\"data row1 col1\" >0</td>\n",
              "    </tr>\n",
              "    <tr>\n",
              "      <th id=\"T_7079e_level0_row2\" class=\"row_heading level0 row2\" >2107</th>\n",
              "      <td id=\"T_7079e_row2_col0\" class=\"data row2 col0\" >0</td>\n",
              "      <td id=\"T_7079e_row2_col1\" class=\"data row2 col1\" >0</td>\n",
              "    </tr>\n",
              "    <tr>\n",
              "      <th id=\"T_7079e_level0_row3\" class=\"row_heading level0 row3\" >456</th>\n",
              "      <td id=\"T_7079e_row3_col0\" class=\"data row3 col0\" >1</td>\n",
              "      <td id=\"T_7079e_row3_col1\" class=\"data row3 col1\" >1</td>\n",
              "    </tr>\n",
              "    <tr>\n",
              "      <th id=\"T_7079e_level0_row4\" class=\"row_heading level0 row4\" >868</th>\n",
              "      <td id=\"T_7079e_row4_col0\" class=\"data row4 col0\" >1</td>\n",
              "      <td id=\"T_7079e_row4_col1\" class=\"data row4 col1\" >0</td>\n",
              "    </tr>\n",
              "  </tbody>\n",
              "</table>\n"
            ]
          },
          "metadata": {},
          "execution_count": 25
        }
      ]
    },
    {
      "cell_type": "markdown",
      "source": [
        "<span style=\"background-color:yellow;\n",
        "             color:Black;\n",
        "             font-size:25px;\n",
        "             text-align:center;\n",
        "             border-radius:30px 80px;\n",
        "             font-weight:bold;\n",
        "             border:2px solid red;\n",
        "             padding:0px 20px;\">5. Logistic Regression\n",
        "</span>"
      ],
      "metadata": {
        "id": "uAPH-wtKae22"
      }
    },
    {
      "cell_type": "code",
      "source": [
        "prediction5 = logreg.predict(X_test)\n",
        "print(prediction5)"
      ],
      "metadata": {
        "execution": {
          "iopub.status.busy": "2023-11-19T10:14:47.784561Z",
          "iopub.execute_input": "2023-11-19T10:14:47.785092Z",
          "iopub.status.idle": "2023-11-19T10:14:47.794162Z",
          "shell.execute_reply.started": "2023-11-19T10:14:47.785023Z",
          "shell.execute_reply": "2023-11-19T10:14:47.792926Z"
        },
        "trusted": true,
        "colab": {
          "base_uri": "https://localhost:8080/"
        },
        "id": "qLtYrU1Fae22",
        "outputId": "516e3e91-f049-443a-abb8-bd9c21d9c627"
      },
      "execution_count": 26,
      "outputs": [
        {
          "output_type": "stream",
          "name": "stdout",
          "text": [
            "[1 1 1 1 1 1 0 1 1 0 0 1 1 1 1 1 1 1 0 0 0 1 1 1 0 1 1 0 0 1 1 1 0 1 0 1 1\n",
            " 1 0 0 1 0 0 0 1 1 0 0 0 0 1 0 0 1 1 0 0 0 1 1 1 1 1 1 0 1 0 0 1 0 0 0 1 1\n",
            " 0 1 0 1 0 1 0 0 1 0 1 1 1 1 0 0 1 0 1 0 0 1 1 1 1 1 0 1 0 1 1 1 0 1 1 1 0\n",
            " 1 0 1 1 1 0 0 0 1 0 0 0 0 0 0 0 1 1 1 0 1 0 1 1 1 0 1 0 0 0 0 1 1 1 1 0 1\n",
            " 1 1 1 0 0 1 1 0 0 0 1 1 1 1 1 1 0 1 1 1 0 1 0 0 1 0 0 1 1 0 0 0 0 0 0 1 0\n",
            " 1 1 1 0 0 1 1 0 1 0 1 0 1 1 1 1 1 0 0 1 1 1 1 1 0 1 0 0 1 0 1 0 1 1 0 1 0\n",
            " 1 1 1 0 1 1 1 1 1 0 0 1 1 1 0 0 1 1 0 1 1 1 0 0 0 0 1 0 1 1 1 0 0 0 1 1 1\n",
            " 0 0 0 0 0 1 0 0 1 0 0 0 1 1 0 1 1 0 0 1 1 1 1 0 0 0 0 1 0 0 0 1 0 0 1 1 0\n",
            " 0 1 0 0 0 1 0 0 0 1 1 1 0 0 1 1 0 0 1 1 0 1 1 1 1 1 0 1 1 0 1 1 1 1 0 0 1\n",
            " 0 0 0 0 0 0 0 0 0 1 1 1 1 1 1 0 1 1 1 1 1 1 1 1 1 0 1 0 1 1 0 0 0 1 0 1 0\n",
            " 1 0 1 0 1 1 1 0 1 1 0 1 0 1 0 1 1 0 1 1 0 0 0 0 0 0 0 0 1 1 1 1 1 0 1 1 1\n",
            " 1 0 1 1 1 1 1 1 1 0 0 1 1 1 1 0 1 0 1 0 1 1 0 0 1 0 0 0 1 0 1 1 1 0 1 1 0\n",
            " 0 0 1 1 1 1 1 1 0 0 0 1 0 1 1 1 0 1 1 0 0 1 1 1 0 1 0 1 0 1 1 1 1 1 1 0 1\n",
            " 1 1 1 1 1 1 1 1 1 0 0 0 0]\n"
          ]
        }
      ]
    },
    {
      "cell_type": "code",
      "source": [
        "cross_checking = pd.DataFrame({'Actual' : y_test , 'Predicted' : prediction5})\n",
        "cross_checking.sample(5).style.background_gradient(\n",
        "        cmap='coolwarm').set_properties(**{\n",
        "            'font-family': 'Lucida Calligraphy',\n",
        "            'color': 'LigntGreen',\n",
        "            'font-size': '15px'\n",
        "        })"
      ],
      "metadata": {
        "execution": {
          "iopub.status.busy": "2023-11-19T10:14:47.796319Z",
          "iopub.execute_input": "2023-11-19T10:14:47.796736Z",
          "iopub.status.idle": "2023-11-19T10:14:47.820815Z",
          "shell.execute_reply.started": "2023-11-19T10:14:47.796699Z",
          "shell.execute_reply": "2023-11-19T10:14:47.819339Z"
        },
        "trusted": true,
        "colab": {
          "base_uri": "https://localhost:8080/",
          "height": 217
        },
        "id": "f0krDAmpae22",
        "outputId": "f6817669-0526-4e93-e0dd-0d8de0171923"
      },
      "execution_count": 27,
      "outputs": [
        {
          "output_type": "execute_result",
          "data": {
            "text/plain": [
              "<pandas.io.formats.style.Styler at 0x782274b3a470>"
            ],
            "text/html": [
              "<style type=\"text/css\">\n",
              "#T_07a08_row0_col0, #T_07a08_row1_col0, #T_07a08_row3_col0, #T_07a08_row4_col1 {\n",
              "  background-color: #3b4cc0;\n",
              "  color: #f1f1f1;\n",
              "  font-family: Lucida Calligraphy;\n",
              "  color: LigntGreen;\n",
              "  font-size: 15px;\n",
              "}\n",
              "#T_07a08_row0_col1, #T_07a08_row1_col1, #T_07a08_row2_col0, #T_07a08_row2_col1, #T_07a08_row3_col1, #T_07a08_row4_col0 {\n",
              "  background-color: #b40426;\n",
              "  color: #f1f1f1;\n",
              "  font-family: Lucida Calligraphy;\n",
              "  color: LigntGreen;\n",
              "  font-size: 15px;\n",
              "}\n",
              "</style>\n",
              "<table id=\"T_07a08\" class=\"dataframe\">\n",
              "  <thead>\n",
              "    <tr>\n",
              "      <th class=\"blank level0\" >&nbsp;</th>\n",
              "      <th id=\"T_07a08_level0_col0\" class=\"col_heading level0 col0\" >Actual</th>\n",
              "      <th id=\"T_07a08_level0_col1\" class=\"col_heading level0 col1\" >Predicted</th>\n",
              "    </tr>\n",
              "  </thead>\n",
              "  <tbody>\n",
              "    <tr>\n",
              "      <th id=\"T_07a08_level0_row0\" class=\"row_heading level0 row0\" >2163</th>\n",
              "      <td id=\"T_07a08_row0_col0\" class=\"data row0 col0\" >0</td>\n",
              "      <td id=\"T_07a08_row0_col1\" class=\"data row0 col1\" >1</td>\n",
              "    </tr>\n",
              "    <tr>\n",
              "      <th id=\"T_07a08_level0_row1\" class=\"row_heading level0 row1\" >1940</th>\n",
              "      <td id=\"T_07a08_row1_col0\" class=\"data row1 col0\" >0</td>\n",
              "      <td id=\"T_07a08_row1_col1\" class=\"data row1 col1\" >1</td>\n",
              "    </tr>\n",
              "    <tr>\n",
              "      <th id=\"T_07a08_level0_row2\" class=\"row_heading level0 row2\" >430</th>\n",
              "      <td id=\"T_07a08_row2_col0\" class=\"data row2 col0\" >1</td>\n",
              "      <td id=\"T_07a08_row2_col1\" class=\"data row2 col1\" >1</td>\n",
              "    </tr>\n",
              "    <tr>\n",
              "      <th id=\"T_07a08_level0_row3\" class=\"row_heading level0 row3\" >1854</th>\n",
              "      <td id=\"T_07a08_row3_col0\" class=\"data row3 col0\" >0</td>\n",
              "      <td id=\"T_07a08_row3_col1\" class=\"data row3 col1\" >1</td>\n",
              "    </tr>\n",
              "    <tr>\n",
              "      <th id=\"T_07a08_level0_row4\" class=\"row_heading level0 row4\" >456</th>\n",
              "      <td id=\"T_07a08_row4_col0\" class=\"data row4 col0\" >1</td>\n",
              "      <td id=\"T_07a08_row4_col1\" class=\"data row4 col1\" >0</td>\n",
              "    </tr>\n",
              "  </tbody>\n",
              "</table>\n"
            ]
          },
          "metadata": {},
          "execution_count": 27
        }
      ]
    },
    {
      "cell_type": "markdown",
      "source": [
        "<div style=\"color:white;\n",
        "       display:fill;\n",
        "       border-radius:5px;\n",
        "       background-color:yellow;\n",
        "       font-size:120%;\n",
        "       font-family:Nexa;\n",
        "       style:justify;\n",
        "       font-family:'Times New Roman';\n",
        "       letter-spacing:0.5px\">\n",
        "    <p style=\"padding: 10px;\n",
        "          color:Black;\">\n",
        "         Random Forest,Decision Tree Classifier,XGB Classifier,\tare giving the best Result with 100 percent accuracy and  is doing  a great job till now in Fault Detection, than the rest of the models because it's able to predict all the signals in most efficient manner while in other models there are cases where there is actually fault but the model is not able to identify it.Logistic Regression is giving the worst accuracy\n",
        "    </p>\n",
        "</div>"
      ],
      "metadata": {
        "id": "645wTHQqae23"
      }
    }
  ]
}